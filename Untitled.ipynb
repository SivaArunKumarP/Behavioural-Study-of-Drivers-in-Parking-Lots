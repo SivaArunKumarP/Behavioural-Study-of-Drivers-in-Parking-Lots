{
 "cells": [
  {
   "cell_type": "code",
   "execution_count": 1,
   "id": "eee1e98e",
   "metadata": {},
   "outputs": [],
   "source": [
    "#importing required libraries\n",
    "import carla\n",
    "import random\n",
    "import cv2\n",
    "import numpy as np\n",
    "import time"
   ]
  },
  {
   "cell_type": "code",
   "execution_count": 15,
   "id": "e75998b2",
   "metadata": {},
   "outputs": [],
   "source": [
    "#connecting to simulator\n",
    "client=carla.Client('localhost',2000)"
   ]
  },
  {
   "cell_type": "code",
   "execution_count": 17,
   "id": "1b62a3d0",
   "metadata": {},
   "outputs": [
    {
     "ename": "RuntimeError",
     "evalue": "time-out of 5000ms while waiting for the simulator, make sure the simulator is ready and connected to localhost:2000",
     "output_type": "error",
     "traceback": [
      "\u001b[1;31m---------------------------------------------------------------------------\u001b[0m",
      "\u001b[1;31mRuntimeError\u001b[0m                              Traceback (most recent call last)",
      "\u001b[1;32m~\\AppData\\Local\\Temp\\ipykernel_13408\\534886919.py\u001b[0m in \u001b[0;36m<module>\u001b[1;34m\u001b[0m\n\u001b[0;32m      1\u001b[0m \u001b[1;31m#loadin required town\u001b[0m\u001b[1;33m\u001b[0m\u001b[1;33m\u001b[0m\u001b[1;33m\u001b[0m\u001b[0m\n\u001b[1;32m----> 2\u001b[1;33m \u001b[0mclient\u001b[0m\u001b[1;33m.\u001b[0m\u001b[0mload_world\u001b[0m\u001b[1;33m(\u001b[0m\u001b[1;34m'Town04'\u001b[0m\u001b[1;33m)\u001b[0m\u001b[1;33m\u001b[0m\u001b[1;33m\u001b[0m\u001b[0m\n\u001b[0m",
      "\u001b[1;31mRuntimeError\u001b[0m: time-out of 5000ms while waiting for the simulator, make sure the simulator is ready and connected to localhost:2000"
     ]
    }
   ],
   "source": [
    "#loadin required town\n",
    "client.load_world('Town04')"
   ]
  },
  {
   "cell_type": "code",
   "execution_count": 4,
   "id": "69cb2a20",
   "metadata": {},
   "outputs": [],
   "source": [
    "#geting places for spawning cars in world\n",
    "world=client.get_world()\n",
    "spawn_points=world.get_map().get_spawn_points()"
   ]
  },
  {
   "cell_type": "code",
   "execution_count": 5,
   "id": "42c2716e",
   "metadata": {},
   "outputs": [],
   "source": [
    "#getting blueprints of cars\n",
    "vehicle_bp=world.get_blueprint_library().filter('ford')"
   ]
  },
  {
   "cell_type": "code",
   "execution_count": 6,
   "id": "171eeb16",
   "metadata": {},
   "outputs": [
    {
     "name": "stdout",
     "output_type": "stream",
     "text": [
      "Transform(Location(x=258.301788, y=-129.096680, z=0.481942), Rotation(pitch=0.000000, yaw=-89.823242, roll=0.000000))\n"
     ]
    }
   ],
   "source": [
    "#spawning a car\n",
    "st_pt=random.choice(spawn_points)\n",
    "print(st_pt)\n",
    "vehicle=world.try_spawn_actor(vehicle_bp[0],st_pt)"
   ]
  },
  {
   "cell_type": "code",
   "execution_count": 7,
   "id": "bc67a431",
   "metadata": {},
   "outputs": [],
   "source": [
    "#viewing our car\n",
    "spect=world.get_spectator()\n",
    "st_pt.location.z=st_pt.location.z+1\n",
    "spect.set_transform(st_pt)"
   ]
  },
  {
   "cell_type": "code",
   "execution_count": null,
   "id": "7317d39e",
   "metadata": {},
   "outputs": [],
   "source": [
    "#autopilot mode on\n",
    "vehicle.set_autopilot(True)"
   ]
  },
  {
   "cell_type": "code",
   "execution_count": 8,
   "id": "74350b2d",
   "metadata": {},
   "outputs": [],
   "source": [
    "C1=3\n",
    "C2=-5\n",
    "camera_bp=world.get_blueprint_library().find('sensor.camera.rgb')\n",
    "camera_bp.set_attribute('image_size_x','640')\n",
    "camera_bp.set_attribute('image_size_y','360')\n",
    "camera_init_trans=carla.Transform(carla.Location(z=C2,x=C1)) #this creates the camera in the sim \n",
    "camera=world.spawn_actor(camera_bp, camera_init_trans,attach_to=vehicle)\n",
    "\n",
    "def camera_callback(image,data_dict):\n",
    "    data_dict['image']= np.reshape(np.copy(image.raw_data),(image.height,image.width,4))\n",
    "image_w = camera_bp.get_attribute('image_size_x').as_int()\n",
    "image_h = camera_bp.get_attribute('image_size_y').as_int()\n",
    "\n",
    "camera_data={'image': np.zeros((image_h,image_w,4))}\n",
    "\n",
    "#this actually opens a Live stream from the camera \n",
    "camera.listen(lambda image: camera_callback(image,camera_data))"
   ]
  },
  {
   "cell_type": "code",
   "execution_count": 10,
   "id": "84058204",
   "metadata": {},
   "outputs": [],
   "source": [
    "#route planning bit\n",
    "\n",
    "import sys \n",
    "sys.path.append('E:\\CAR\\WindowsNoEditor\\PythonAPI\\carla') # tweak to where you put carla\n",
    "\n",
    "from agents.navigation.global_route_planner import GlobalRoutePlanner\n",
    "\n",
    "point_a= st_pt.location #we start at where the car is\n",
    "\n",
    "sampling_resolution = 1\n",
    "\n",
    "grp = GlobalRoutePlanner(world.get_map(), sampling_resolution)\n",
    "\n",
    "#now let pick the longest possible roqte\n",
    "\n",
    "distance = 0\n",
    "\n",
    "for loc in spawn_points: #we start trying all spawn points\n",
    "\n",
    "                            #but we just exclude first at zero index\n",
    "\n",
    "    cur_route= grp.trace_route(point_a, loc.location)\n",
    "\n",
    "    if len(cur_route)>distance:\n",
    "        distance=len(cur_route)\n",
    "\n",
    "        route=cur_route\n",
    "\n",
    "#draw the route in sin window Note it does not get into the camera of the car\n",
    "\n",
    "for waypoint in route:\n",
    "\n",
    "    world.debug.draw_string(waypoint[0].transform.location,'^', draw_shadow=False, \n",
    "                            color=carla.Color(r=0, g=255, b=255), life_time=60.0, persistent_lines=True)"
   ]
  },
  {
   "cell_type": "code",
   "execution_count": 11,
   "id": "de8480ba",
   "metadata": {},
   "outputs": [
    {
     "ename": "NameError",
     "evalue": "name 'time' is not defined",
     "output_type": "error",
     "traceback": [
      "\u001b[1;31m---------------------------------------------------------------------------\u001b[0m",
      "\u001b[1;31mNameError\u001b[0m                                 Traceback (most recent call last)",
      "\u001b[1;32m~\\AppData\\Local\\Temp\\ipykernel_13524\\4266255089.py\u001b[0m in \u001b[0;36m<module>\u001b[1;34m\u001b[0m\n\u001b[0;32m     13\u001b[0m     \u001b[0mcv2\u001b[0m\u001b[1;33m.\u001b[0m\u001b[0mwaitKey\u001b[0m\u001b[1;33m(\u001b[0m\u001b[1;36m50\u001b[0m\u001b[1;33m)\u001b[0m\u001b[1;33m\u001b[0m\u001b[1;33m\u001b[0m\u001b[0m\n\u001b[0;32m     14\u001b[0m \u001b[1;33m\u001b[0m\u001b[0m\n\u001b[1;32m---> 15\u001b[1;33m \u001b[0mtime\u001b[0m\u001b[1;33m.\u001b[0m\u001b[0msleep\u001b[0m\u001b[1;33m(\u001b[0m\u001b[1;36m2\u001b[0m\u001b[1;33m)\u001b[0m\u001b[1;33m\u001b[0m\u001b[1;33m\u001b[0m\u001b[0m\n\u001b[0m\u001b[0;32m     16\u001b[0m \u001b[1;33m\u001b[0m\u001b[0m\n\u001b[0;32m     17\u001b[0m \u001b[0mcv2\u001b[0m\u001b[1;33m.\u001b[0m\u001b[0mdestroyAllwindows\u001b[0m\u001b[1;33m(\u001b[0m\u001b[1;33m)\u001b[0m\u001b[1;33m\u001b[0m\u001b[1;33m\u001b[0m\u001b[0m\n",
      "\u001b[1;31mNameError\u001b[0m: name 'time' is not defined"
     ]
    }
   ],
   "source": [
    "#the cheating loop of moving the car along the route\n",
    "\n",
    "for waypoint in route:\n",
    "\n",
    "    #move the car to current waypoint\n",
    "\n",
    "    vehicle.set_transform(waypoint[0].transform)\n",
    "\n",
    "    #Dispaly with inshow\n",
    "\n",
    "    cv2.imshow('Fake self-driving', camera_data['image'])\n",
    "\n",
    "    cv2.waitKey(50)\n",
    "\n",
    "time.sleep(2)\n",
    "\n",
    "cv2.destroyAllwindows()\n",
    "\n",
    "camera.stop() #this is the opposite of camera. Listen\n",
    "\n",
    "for actor in world.get_actors().filter('*vehicle*'):\n",
    "\n",
    "    actor.destroy()\n",
    "\n",
    "for sensor in world.get_actors().filter('*sensor*'):\n",
    "\n",
    "    sensor.destroy()"
   ]
  },
  {
   "cell_type": "code",
   "execution_count": 19,
   "id": "00875f05",
   "metadata": {},
   "outputs": [
    {
     "name": "stdout",
     "output_type": "stream",
     "text": [
      "Transform(Location(x=4.246325, y=-176.360352, z=-0.004891), Rotation(pitch=0.000007, yaw=-90.224854, roll=-0.000702))\n"
     ]
    }
   ],
   "source": [
    "#car positioning\n",
    "vehicle_pos=vehicle.get_transform()\n",
    "print(vehicle_pos)"
   ]
  },
  {
   "cell_type": "code",
   "execution_count": 20,
   "id": "d522cb09",
   "metadata": {},
   "outputs": [],
   "source": [
    "#autopilot mode on\n",
    "vehicle.set_autopilot(True)"
   ]
  },
  {
   "cell_type": "code",
   "execution_count": 12,
   "id": "4f5b677f",
   "metadata": {},
   "outputs": [
    {
     "name": "stdout",
     "output_type": "stream",
     "text": [
      "Transform(Location(x=412.216370, y=-34.778553, z=1.281942), Rotation(pitch=0.000000, yaw=-89.560913, roll=0.000000))\n"
     ]
    }
   ],
   "source": [
    "print(st_pt)"
   ]
  },
  {
   "cell_type": "code",
   "execution_count": 13,
   "id": "f7bca916",
   "metadata": {},
   "outputs": [
    {
     "name": "stdout",
     "output_type": "stream",
     "text": [
      "Transform(Location(x=412.730469, y=-96.487007, z=-0.003664), Rotation(pitch=0.000403, yaw=-89.403778, roll=-0.000336))\n"
     ]
    }
   ],
   "source": [
    "vehicle_pos=vehicle.get_transform()\n",
    "print(vehicle_pos)"
   ]
  },
  {
   "cell_type": "code",
   "execution_count": 14,
   "id": "e7a5a1f6",
   "metadata": {},
   "outputs": [],
   "source": [
    "#view of map town4\n",
    "town_map=world.get_map()"
   ]
  },
  {
   "cell_type": "code",
   "execution_count": 15,
   "id": "333c90ae",
   "metadata": {},
   "outputs": [
    {
     "data": {
      "text/plain": [
       "carla.libcarla.Map"
      ]
     },
     "execution_count": 15,
     "metadata": {},
     "output_type": "execute_result"
    }
   ],
   "source": [
    "type(town_map)"
   ]
  },
  {
   "cell_type": "code",
   "execution_count": 16,
   "id": "cc6628e6",
   "metadata": {},
   "outputs": [
    {
     "name": "stdout",
     "output_type": "stream",
     "text": [
      "[(<carla.libcarla.Waypoint object at 0x00000221E09822D0>, <carla.libcarla.Waypoint object at 0x00000221E0982510>), (<carla.libcarla.Waypoint object at 0x00000221E0982210>, <carla.libcarla.Waypoint object at 0x00000221E0982570>), (<carla.libcarla.Waypoint object at 0x00000221E09825D0>, <carla.libcarla.Waypoint object at 0x00000221E0982630>), (<carla.libcarla.Waypoint object at 0x00000221E0982690>, <carla.libcarla.Waypoint object at 0x00000221E09826F0>), (<carla.libcarla.Waypoint object at 0x00000221E0982750>, <carla.libcarla.Waypoint object at 0x00000221E09827B0>), (<carla.libcarla.Waypoint object at 0x00000221E0982810>, <carla.libcarla.Waypoint object at 0x00000221E0982870>), (<carla.libcarla.Waypoint object at 0x00000221E09828D0>, <carla.libcarla.Waypoint object at 0x00000221E0982930>), (<carla.libcarla.Waypoint object at 0x00000221E0982990>, <carla.libcarla.Waypoint object at 0x00000221E09829F0>), (<carla.libcarla.Waypoint object at 0x00000221E0982A50>, <carla.libcarla.Waypoint object at 0x00000221E0982AB0>), (<carla.libcarla.Waypoint object at 0x00000221E0982B10>, <carla.libcarla.Waypoint object at 0x00000221E0982B70>), (<carla.libcarla.Waypoint object at 0x00000221E0982BD0>, <carla.libcarla.Waypoint object at 0x00000221E0982C30>), (<carla.libcarla.Waypoint object at 0x00000221E0982C90>, <carla.libcarla.Waypoint object at 0x00000221E0982CF0>), (<carla.libcarla.Waypoint object at 0x00000221E0982D50>, <carla.libcarla.Waypoint object at 0x00000221E0982DB0>), (<carla.libcarla.Waypoint object at 0x00000221E0982E10>, <carla.libcarla.Waypoint object at 0x00000221E0982E70>), (<carla.libcarla.Waypoint object at 0x00000221E0982ED0>, <carla.libcarla.Waypoint object at 0x00000221E0982F30>), (<carla.libcarla.Waypoint object at 0x00000221E0982F90>, <carla.libcarla.Waypoint object at 0x00000221E0994030>), (<carla.libcarla.Waypoint object at 0x00000221E0994090>, <carla.libcarla.Waypoint object at 0x00000221E09940F0>), (<carla.libcarla.Waypoint object at 0x00000221E0994150>, <carla.libcarla.Waypoint object at 0x00000221E09941B0>), (<carla.libcarla.Waypoint object at 0x00000221E0994210>, <carla.libcarla.Waypoint object at 0x00000221E0994270>), (<carla.libcarla.Waypoint object at 0x00000221E09942D0>, <carla.libcarla.Waypoint object at 0x00000221E0994330>), (<carla.libcarla.Waypoint object at 0x00000221E0994390>, <carla.libcarla.Waypoint object at 0x00000221E09943F0>), (<carla.libcarla.Waypoint object at 0x00000221E0994450>, <carla.libcarla.Waypoint object at 0x00000221E09944B0>), (<carla.libcarla.Waypoint object at 0x00000221E0994510>, <carla.libcarla.Waypoint object at 0x00000221E0994570>), (<carla.libcarla.Waypoint object at 0x00000221E09945D0>, <carla.libcarla.Waypoint object at 0x00000221E0994630>), (<carla.libcarla.Waypoint object at 0x00000221E0994690>, <carla.libcarla.Waypoint object at 0x00000221E09946F0>), (<carla.libcarla.Waypoint object at 0x00000221E0994750>, <carla.libcarla.Waypoint object at 0x00000221E09947B0>), (<carla.libcarla.Waypoint object at 0x00000221E0994810>, <carla.libcarla.Waypoint object at 0x00000221E0994870>), (<carla.libcarla.Waypoint object at 0x00000221E09948D0>, <carla.libcarla.Waypoint object at 0x00000221E0994930>), (<carla.libcarla.Waypoint object at 0x00000221E0994990>, <carla.libcarla.Waypoint object at 0x00000221E09949F0>), (<carla.libcarla.Waypoint object at 0x00000221E0994A50>, <carla.libcarla.Waypoint object at 0x00000221E0994AB0>), (<carla.libcarla.Waypoint object at 0x00000221E0994B10>, <carla.libcarla.Waypoint object at 0x00000221E0994B70>), (<carla.libcarla.Waypoint object at 0x00000221E0994BD0>, <carla.libcarla.Waypoint object at 0x00000221E0994C30>), (<carla.libcarla.Waypoint object at 0x00000221E0994C90>, <carla.libcarla.Waypoint object at 0x00000221E0994CF0>), (<carla.libcarla.Waypoint object at 0x00000221E0994D50>, <carla.libcarla.Waypoint object at 0x00000221E0994DB0>), (<carla.libcarla.Waypoint object at 0x00000221E0994E10>, <carla.libcarla.Waypoint object at 0x00000221E0994E70>), (<carla.libcarla.Waypoint object at 0x00000221E0994ED0>, <carla.libcarla.Waypoint object at 0x00000221E0994F30>), (<carla.libcarla.Waypoint object at 0x00000221E0994F90>, <carla.libcarla.Waypoint object at 0x00000221E0995030>), (<carla.libcarla.Waypoint object at 0x00000221E0995090>, <carla.libcarla.Waypoint object at 0x00000221E09950F0>), (<carla.libcarla.Waypoint object at 0x00000221E0995150>, <carla.libcarla.Waypoint object at 0x00000221E09951B0>), (<carla.libcarla.Waypoint object at 0x00000221E0995210>, <carla.libcarla.Waypoint object at 0x00000221E0995270>), (<carla.libcarla.Waypoint object at 0x00000221E09952D0>, <carla.libcarla.Waypoint object at 0x00000221E0995330>), (<carla.libcarla.Waypoint object at 0x00000221E0995390>, <carla.libcarla.Waypoint object at 0x00000221E09953F0>), (<carla.libcarla.Waypoint object at 0x00000221E0995450>, <carla.libcarla.Waypoint object at 0x00000221E09954B0>), (<carla.libcarla.Waypoint object at 0x00000221E0995510>, <carla.libcarla.Waypoint object at 0x00000221E0995570>), (<carla.libcarla.Waypoint object at 0x00000221E09955D0>, <carla.libcarla.Waypoint object at 0x00000221E0995630>), (<carla.libcarla.Waypoint object at 0x00000221E0995690>, <carla.libcarla.Waypoint object at 0x00000221E09956F0>), (<carla.libcarla.Waypoint object at 0x00000221E0995750>, <carla.libcarla.Waypoint object at 0x00000221E09957B0>), (<carla.libcarla.Waypoint object at 0x00000221E0995810>, <carla.libcarla.Waypoint object at 0x00000221E0995870>), (<carla.libcarla.Waypoint object at 0x00000221E09958D0>, <carla.libcarla.Waypoint object at 0x00000221E0995930>), (<carla.libcarla.Waypoint object at 0x00000221E0995990>, <carla.libcarla.Waypoint object at 0x00000221E09959F0>), (<carla.libcarla.Waypoint object at 0x00000221E0995A50>, <carla.libcarla.Waypoint object at 0x00000221E0995AB0>), (<carla.libcarla.Waypoint object at 0x00000221E0995B10>, <carla.libcarla.Waypoint object at 0x00000221E0995B70>), (<carla.libcarla.Waypoint object at 0x00000221E0995BD0>, <carla.libcarla.Waypoint object at 0x00000221E0995C30>), (<carla.libcarla.Waypoint object at 0x00000221E0995C90>, <carla.libcarla.Waypoint object at 0x00000221E0995CF0>), (<carla.libcarla.Waypoint object at 0x00000221E0995D50>, <carla.libcarla.Waypoint object at 0x00000221E0995DB0>), (<carla.libcarla.Waypoint object at 0x00000221E0995E10>, <carla.libcarla.Waypoint object at 0x00000221E0995E70>), (<carla.libcarla.Waypoint object at 0x00000221E0995ED0>, <carla.libcarla.Waypoint object at 0x00000221E0995F30>), (<carla.libcarla.Waypoint object at 0x00000221E0995F90>, <carla.libcarla.Waypoint object at 0x00000221E0996030>), (<carla.libcarla.Waypoint object at 0x00000221E0996090>, <carla.libcarla.Waypoint object at 0x00000221E09960F0>), (<carla.libcarla.Waypoint object at 0x00000221E0996150>, <carla.libcarla.Waypoint object at 0x00000221E09961B0>), (<carla.libcarla.Waypoint object at 0x00000221E0996210>, <carla.libcarla.Waypoint object at 0x00000221E0996270>), (<carla.libcarla.Waypoint object at 0x00000221E09962D0>, <carla.libcarla.Waypoint object at 0x00000221E0996330>), (<carla.libcarla.Waypoint object at 0x00000221E0996390>, <carla.libcarla.Waypoint object at 0x00000221E09963F0>), (<carla.libcarla.Waypoint object at 0x00000221E0996450>, <carla.libcarla.Waypoint object at 0x00000221E09964B0>), (<carla.libcarla.Waypoint object at 0x00000221E0996510>, <carla.libcarla.Waypoint object at 0x00000221E0996570>), (<carla.libcarla.Waypoint object at 0x00000221E09965D0>, <carla.libcarla.Waypoint object at 0x00000221E0996630>), (<carla.libcarla.Waypoint object at 0x00000221E0996690>, <carla.libcarla.Waypoint object at 0x00000221E09966F0>), (<carla.libcarla.Waypoint object at 0x00000221E0996750>, <carla.libcarla.Waypoint object at 0x00000221E09967B0>), (<carla.libcarla.Waypoint object at 0x00000221E0996810>, <carla.libcarla.Waypoint object at 0x00000221E0996870>), (<carla.libcarla.Waypoint object at 0x00000221E09968D0>, <carla.libcarla.Waypoint object at 0x00000221E0996930>), (<carla.libcarla.Waypoint object at 0x00000221E0996990>, <carla.libcarla.Waypoint object at 0x00000221E09969F0>), (<carla.libcarla.Waypoint object at 0x00000221E0996A50>, <carla.libcarla.Waypoint object at 0x00000221E0996AB0>), (<carla.libcarla.Waypoint object at 0x00000221E0996B10>, <carla.libcarla.Waypoint object at 0x00000221E0996B70>), (<carla.libcarla.Waypoint object at 0x00000221E0982270>, <carla.libcarla.Waypoint object at 0x00000221E0982390>), (<carla.libcarla.Waypoint object at 0x00000221E0982090>, <carla.libcarla.Waypoint object at 0x00000221E0982150>), (<carla.libcarla.Waypoint object at 0x00000221E09820F0>, <carla.libcarla.Waypoint object at 0x00000221E0982030>), (<carla.libcarla.Waypoint object at 0x00000221E0970C30>, <carla.libcarla.Waypoint object at 0x00000221E0970F90>), (<carla.libcarla.Waypoint object at 0x00000221E0970E70>, <carla.libcarla.Waypoint object at 0x00000221E0970C90>), (<carla.libcarla.Waypoint object at 0x00000221E0970DB0>, <carla.libcarla.Waypoint object at 0x00000221E0970810>), (<carla.libcarla.Waypoint object at 0x00000221E0970CF0>, <carla.libcarla.Waypoint object at 0x00000221E0970D50>), (<carla.libcarla.Waypoint object at 0x00000221E0970AB0>, <carla.libcarla.Waypoint object at 0x00000221E0970B70>), (<carla.libcarla.Waypoint object at 0x00000221E0970B10>, <carla.libcarla.Waypoint object at 0x00000221E0970A50>), (<carla.libcarla.Waypoint object at 0x00000221E09709F0>, <carla.libcarla.Waypoint object at 0x00000221E0970990>), (<carla.libcarla.Waypoint object at 0x00000221E09708D0>, <carla.libcarla.Waypoint object at 0x00000221E0970870>), (<carla.libcarla.Waypoint object at 0x00000221E0970750>, <carla.libcarla.Waypoint object at 0x00000221E0970510>), (<carla.libcarla.Waypoint object at 0x00000221E0970630>, <carla.libcarla.Waypoint object at 0x00000221E09706F0>), (<carla.libcarla.Waypoint object at 0x00000221E0970330>, <carla.libcarla.Waypoint object at 0x00000221E0970570>), (<carla.libcarla.Waypoint object at 0x00000221E09703F0>, <carla.libcarla.Waypoint object at 0x00000221E09701B0>), (<carla.libcarla.Waypoint object at 0x00000221E0970390>, <carla.libcarla.Waypoint object at 0x00000221E09702D0>), (<carla.libcarla.Waypoint object at 0x00000221E0970210>, <carla.libcarla.Waypoint object at 0x00000221E0970150>), (<carla.libcarla.Waypoint object at 0x00000221E09700F0>, <carla.libcarla.Waypoint object at 0x00000221E0970090>), (<carla.libcarla.Waypoint object at 0x00000221E0970030>, <carla.libcarla.Waypoint object at 0x00000221E094AF90>), (<carla.libcarla.Waypoint object at 0x00000221E094AD50>, <carla.libcarla.Waypoint object at 0x00000221E094AB10>), (<carla.libcarla.Waypoint object at 0x00000221E094AE10>, <carla.libcarla.Waypoint object at 0x00000221E094AE70>), (<carla.libcarla.Waypoint object at 0x00000221E094AC90>, <carla.libcarla.Waypoint object at 0x00000221E094AAB0>), (<carla.libcarla.Waypoint object at 0x00000221E094ABD0>, <carla.libcarla.Waypoint object at 0x00000221E094ACF0>), (<carla.libcarla.Waypoint object at 0x00000221E094AC30>, <carla.libcarla.Waypoint object at 0x00000221E094A150>), (<carla.libcarla.Waypoint object at 0x00000221E094A030>, <carla.libcarla.Waypoint object at 0x00000221E08C9270>), (<carla.libcarla.Waypoint object at 0x00000221E08C91B0>, <carla.libcarla.Waypoint object at 0x00000221E08C9090>), (<carla.libcarla.Waypoint object at 0x00000221E0996BD0>, <carla.libcarla.Waypoint object at 0x00000221E0996C30>), (<carla.libcarla.Waypoint object at 0x00000221E0996C90>, <carla.libcarla.Waypoint object at 0x00000221E0996CF0>), (<carla.libcarla.Waypoint object at 0x00000221E0996D50>, <carla.libcarla.Waypoint object at 0x00000221E0996DB0>), (<carla.libcarla.Waypoint object at 0x00000221E0996E10>, <carla.libcarla.Waypoint object at 0x00000221E0996E70>), (<carla.libcarla.Waypoint object at 0x00000221E0996ED0>, <carla.libcarla.Waypoint object at 0x00000221E0996F30>), (<carla.libcarla.Waypoint object at 0x00000221E0996F90>, <carla.libcarla.Waypoint object at 0x00000221E0997030>), (<carla.libcarla.Waypoint object at 0x00000221E0997090>, <carla.libcarla.Waypoint object at 0x00000221E09970F0>), (<carla.libcarla.Waypoint object at 0x00000221E0997150>, <carla.libcarla.Waypoint object at 0x00000221E09971B0>), (<carla.libcarla.Waypoint object at 0x00000221E0997210>, <carla.libcarla.Waypoint object at 0x00000221E0997270>), (<carla.libcarla.Waypoint object at 0x00000221E09972D0>, <carla.libcarla.Waypoint object at 0x00000221E0997330>), (<carla.libcarla.Waypoint object at 0x00000221E0997390>, <carla.libcarla.Waypoint object at 0x00000221E09973F0>), (<carla.libcarla.Waypoint object at 0x00000221E0997450>, <carla.libcarla.Waypoint object at 0x00000221E09974B0>), (<carla.libcarla.Waypoint object at 0x00000221E0997510>, <carla.libcarla.Waypoint object at 0x00000221E0997570>), (<carla.libcarla.Waypoint object at 0x00000221E09975D0>, <carla.libcarla.Waypoint object at 0x00000221E0997630>), (<carla.libcarla.Waypoint object at 0x00000221E0997690>, <carla.libcarla.Waypoint object at 0x00000221E09976F0>), (<carla.libcarla.Waypoint object at 0x00000221E0997750>, <carla.libcarla.Waypoint object at 0x00000221E09977B0>), (<carla.libcarla.Waypoint object at 0x00000221E0997810>, <carla.libcarla.Waypoint object at 0x00000221E0997870>), (<carla.libcarla.Waypoint object at 0x00000221E09978D0>, <carla.libcarla.Waypoint object at 0x00000221E0997930>), (<carla.libcarla.Waypoint object at 0x00000221E0997990>, <carla.libcarla.Waypoint object at 0x00000221E09979F0>), (<carla.libcarla.Waypoint object at 0x00000221E0997A50>, <carla.libcarla.Waypoint object at 0x00000221E0997AB0>), (<carla.libcarla.Waypoint object at 0x00000221E0997B10>, <carla.libcarla.Waypoint object at 0x00000221E0997B70>), (<carla.libcarla.Waypoint object at 0x00000221E0997BD0>, <carla.libcarla.Waypoint object at 0x00000221E0997C30>), (<carla.libcarla.Waypoint object at 0x00000221E0997C90>, <carla.libcarla.Waypoint object at 0x00000221E0997CF0>), (<carla.libcarla.Waypoint object at 0x00000221E0997D50>, <carla.libcarla.Waypoint object at 0x00000221E0997DB0>), (<carla.libcarla.Waypoint object at 0x00000221E0997E10>, <carla.libcarla.Waypoint object at 0x00000221E0997E70>), (<carla.libcarla.Waypoint object at 0x00000221E0997ED0>, <carla.libcarla.Waypoint object at 0x00000221E0997F30>), (<carla.libcarla.Waypoint object at 0x00000221E0997F90>, <carla.libcarla.Waypoint object at 0x00000221E0998030>), (<carla.libcarla.Waypoint object at 0x00000221E0998090>, <carla.libcarla.Waypoint object at 0x00000221E09980F0>), (<carla.libcarla.Waypoint object at 0x00000221E0998150>, <carla.libcarla.Waypoint object at 0x00000221E09981B0>), (<carla.libcarla.Waypoint object at 0x00000221E0998210>, <carla.libcarla.Waypoint object at 0x00000221E0998270>), (<carla.libcarla.Waypoint object at 0x00000221E09982D0>, <carla.libcarla.Waypoint object at 0x00000221E0998330>), (<carla.libcarla.Waypoint object at 0x00000221E0998390>, <carla.libcarla.Waypoint object at 0x00000221E09983F0>), (<carla.libcarla.Waypoint object at 0x00000221E0998450>, <carla.libcarla.Waypoint object at 0x00000221E09984B0>), (<carla.libcarla.Waypoint object at 0x00000221E0998510>, <carla.libcarla.Waypoint object at 0x00000221E0998570>), (<carla.libcarla.Waypoint object at 0x00000221E09985D0>, <carla.libcarla.Waypoint object at 0x00000221E0998630>), (<carla.libcarla.Waypoint object at 0x00000221E0998690>, <carla.libcarla.Waypoint object at 0x00000221E09986F0>), (<carla.libcarla.Waypoint object at 0x00000221E0998750>, <carla.libcarla.Waypoint object at 0x00000221E09987B0>), (<carla.libcarla.Waypoint object at 0x00000221E0998810>, <carla.libcarla.Waypoint object at 0x00000221E0998870>), (<carla.libcarla.Waypoint object at 0x00000221E09988D0>, <carla.libcarla.Waypoint object at 0x00000221E0998930>), (<carla.libcarla.Waypoint object at 0x00000221E0998990>, <carla.libcarla.Waypoint object at 0x00000221E09989F0>), (<carla.libcarla.Waypoint object at 0x00000221E0998A50>, <carla.libcarla.Waypoint object at 0x00000221E0998AB0>), (<carla.libcarla.Waypoint object at 0x00000221E0998B10>, <carla.libcarla.Waypoint object at 0x00000221E0998B70>), (<carla.libcarla.Waypoint object at 0x00000221E0998BD0>, <carla.libcarla.Waypoint object at 0x00000221E0998C30>), (<carla.libcarla.Waypoint object at 0x00000221E0998C90>, <carla.libcarla.Waypoint object at 0x00000221E0998CF0>), (<carla.libcarla.Waypoint object at 0x00000221E0998D50>, <carla.libcarla.Waypoint object at 0x00000221E0998DB0>), (<carla.libcarla.Waypoint object at 0x00000221E0998E10>, <carla.libcarla.Waypoint object at 0x00000221E0998E70>), (<carla.libcarla.Waypoint object at 0x00000221E0998ED0>, <carla.libcarla.Waypoint object at 0x00000221E0998F30>), (<carla.libcarla.Waypoint object at 0x00000221E0998F90>, <carla.libcarla.Waypoint object at 0x00000221E0999030>), (<carla.libcarla.Waypoint object at 0x00000221E0999090>, <carla.libcarla.Waypoint object at 0x00000221E09990F0>), (<carla.libcarla.Waypoint object at 0x00000221E0999150>, <carla.libcarla.Waypoint object at 0x00000221E09991B0>), (<carla.libcarla.Waypoint object at 0x00000221E0999210>, <carla.libcarla.Waypoint object at 0x00000221E0999270>), (<carla.libcarla.Waypoint object at 0x00000221E09992D0>, <carla.libcarla.Waypoint object at 0x00000221E0999330>), (<carla.libcarla.Waypoint object at 0x00000221E0999390>, <carla.libcarla.Waypoint object at 0x00000221E09993F0>), (<carla.libcarla.Waypoint object at 0x00000221E0999450>, <carla.libcarla.Waypoint object at 0x00000221E09994B0>), (<carla.libcarla.Waypoint object at 0x00000221E0999510>, <carla.libcarla.Waypoint object at 0x00000221E0999570>), (<carla.libcarla.Waypoint object at 0x00000221E09995D0>, <carla.libcarla.Waypoint object at 0x00000221E0999630>), (<carla.libcarla.Waypoint object at 0x00000221E0999690>, <carla.libcarla.Waypoint object at 0x00000221E09996F0>), (<carla.libcarla.Waypoint object at 0x00000221E0999750>, <carla.libcarla.Waypoint object at 0x00000221E09997B0>), (<carla.libcarla.Waypoint object at 0x00000221E0999810>, <carla.libcarla.Waypoint object at 0x00000221E0999870>), (<carla.libcarla.Waypoint object at 0x00000221E09998D0>, <carla.libcarla.Waypoint object at 0x00000221E0999930>), (<carla.libcarla.Waypoint object at 0x00000221E0999990>, <carla.libcarla.Waypoint object at 0x00000221E09999F0>), (<carla.libcarla.Waypoint object at 0x00000221E0999A50>, <carla.libcarla.Waypoint object at 0x00000221E0999AB0>), (<carla.libcarla.Waypoint object at 0x00000221E0999B10>, <carla.libcarla.Waypoint object at 0x00000221E0999B70>), (<carla.libcarla.Waypoint object at 0x00000221E0999BD0>, <carla.libcarla.Waypoint object at 0x00000221E0999C30>), (<carla.libcarla.Waypoint object at 0x00000221E0999C90>, <carla.libcarla.Waypoint object at 0x00000221E0999CF0>), (<carla.libcarla.Waypoint object at 0x00000221E0999D50>, <carla.libcarla.Waypoint object at 0x00000221E0999DB0>), (<carla.libcarla.Waypoint object at 0x00000221E0999E10>, <carla.libcarla.Waypoint object at 0x00000221E0999E70>), (<carla.libcarla.Waypoint object at 0x00000221E0999ED0>, <carla.libcarla.Waypoint object at 0x00000221E0999F30>), (<carla.libcarla.Waypoint object at 0x00000221E0999F90>, <carla.libcarla.Waypoint object at 0x00000221E099A030>), (<carla.libcarla.Waypoint object at 0x00000221E099A090>, <carla.libcarla.Waypoint object at 0x00000221E099A0F0>), (<carla.libcarla.Waypoint object at 0x00000221E099A150>, <carla.libcarla.Waypoint object at 0x00000221E099A1B0>), (<carla.libcarla.Waypoint object at 0x00000221E099A210>, <carla.libcarla.Waypoint object at 0x00000221E099A270>), (<carla.libcarla.Waypoint object at 0x00000221E099A2D0>, <carla.libcarla.Waypoint object at 0x00000221E099A330>), (<carla.libcarla.Waypoint object at 0x00000221E099A390>, <carla.libcarla.Waypoint object at 0x00000221E099A3F0>), (<carla.libcarla.Waypoint object at 0x00000221E099A450>, <carla.libcarla.Waypoint object at 0x00000221E099A4B0>), (<carla.libcarla.Waypoint object at 0x00000221E099A510>, <carla.libcarla.Waypoint object at 0x00000221E099A570>), (<carla.libcarla.Waypoint object at 0x00000221E099A5D0>, <carla.libcarla.Waypoint object at 0x00000221E099A630>), (<carla.libcarla.Waypoint object at 0x00000221E099A690>, <carla.libcarla.Waypoint object at 0x00000221E099A6F0>), (<carla.libcarla.Waypoint object at 0x00000221E099A750>, <carla.libcarla.Waypoint object at 0x00000221E099A7B0>), (<carla.libcarla.Waypoint object at 0x00000221E099A810>, <carla.libcarla.Waypoint object at 0x00000221E099A870>), (<carla.libcarla.Waypoint object at 0x00000221E099A8D0>, <carla.libcarla.Waypoint object at 0x00000221E099A930>), (<carla.libcarla.Waypoint object at 0x00000221E099A990>, <carla.libcarla.Waypoint object at 0x00000221E099A9F0>), (<carla.libcarla.Waypoint object at 0x00000221E099AA50>, <carla.libcarla.Waypoint object at 0x00000221E099AAB0>), (<carla.libcarla.Waypoint object at 0x00000221E099AB10>, <carla.libcarla.Waypoint object at 0x00000221E099AB70>), (<carla.libcarla.Waypoint object at 0x00000221E099ABD0>, <carla.libcarla.Waypoint object at 0x00000221E099AC30>), (<carla.libcarla.Waypoint object at 0x00000221E099AC90>, <carla.libcarla.Waypoint object at 0x00000221E099ACF0>), (<carla.libcarla.Waypoint object at 0x00000221E099AD50>, <carla.libcarla.Waypoint object at 0x00000221E099ADB0>), (<carla.libcarla.Waypoint object at 0x00000221E099AE10>, <carla.libcarla.Waypoint object at 0x00000221E099AE70>), (<carla.libcarla.Waypoint object at 0x00000221E099AED0>, <carla.libcarla.Waypoint object at 0x00000221E099AF30>), (<carla.libcarla.Waypoint object at 0x00000221E099AF90>, <carla.libcarla.Waypoint object at 0x00000221E099B030>), (<carla.libcarla.Waypoint object at 0x00000221E099B090>, <carla.libcarla.Waypoint object at 0x00000221E099B0F0>), (<carla.libcarla.Waypoint object at 0x00000221E099B150>, <carla.libcarla.Waypoint object at 0x00000221E099B1B0>), (<carla.libcarla.Waypoint object at 0x00000221E099B210>, <carla.libcarla.Waypoint object at 0x00000221E099B270>), (<carla.libcarla.Waypoint object at 0x00000221E099B2D0>, <carla.libcarla.Waypoint object at 0x00000221E099B330>), (<carla.libcarla.Waypoint object at 0x00000221E099B390>, <carla.libcarla.Waypoint object at 0x00000221E099B3F0>), (<carla.libcarla.Waypoint object at 0x00000221E099B450>, <carla.libcarla.Waypoint object at 0x00000221E099B4B0>), (<carla.libcarla.Waypoint object at 0x00000221E099B510>, <carla.libcarla.Waypoint object at 0x00000221E099B570>), (<carla.libcarla.Waypoint object at 0x00000221E099B5D0>, <carla.libcarla.Waypoint object at 0x00000221E099B630>), (<carla.libcarla.Waypoint object at 0x00000221E099B690>, <carla.libcarla.Waypoint object at 0x00000221E099B6F0>), (<carla.libcarla.Waypoint object at 0x00000221E099B750>, <carla.libcarla.Waypoint object at 0x00000221E099B7B0>), (<carla.libcarla.Waypoint object at 0x00000221E099B810>, <carla.libcarla.Waypoint object at 0x00000221E099B870>), (<carla.libcarla.Waypoint object at 0x00000221E099B8D0>, <carla.libcarla.Waypoint object at 0x00000221E099B930>), (<carla.libcarla.Waypoint object at 0x00000221E099B990>, <carla.libcarla.Waypoint object at 0x00000221E099B9F0>), (<carla.libcarla.Waypoint object at 0x00000221E099BA50>, <carla.libcarla.Waypoint object at 0x00000221E099BAB0>), (<carla.libcarla.Waypoint object at 0x00000221E099BB10>, <carla.libcarla.Waypoint object at 0x00000221E099BB70>), (<carla.libcarla.Waypoint object at 0x00000221E099BBD0>, <carla.libcarla.Waypoint object at 0x00000221E099BC30>), (<carla.libcarla.Waypoint object at 0x00000221E099BC90>, <carla.libcarla.Waypoint object at 0x00000221E099BCF0>), (<carla.libcarla.Waypoint object at 0x00000221E099BD50>, <carla.libcarla.Waypoint object at 0x00000221E099BDB0>), (<carla.libcarla.Waypoint object at 0x00000221E099BE10>, <carla.libcarla.Waypoint object at 0x00000221E099BE70>), (<carla.libcarla.Waypoint object at 0x00000221E099BED0>, <carla.libcarla.Waypoint object at 0x00000221E099BF30>), (<carla.libcarla.Waypoint object at 0x00000221E099BF90>, <carla.libcarla.Waypoint object at 0x00000221E099C030>), (<carla.libcarla.Waypoint object at 0x00000221E099C090>, <carla.libcarla.Waypoint object at 0x00000221E099C0F0>), (<carla.libcarla.Waypoint object at 0x00000221E099C150>, <carla.libcarla.Waypoint object at 0x00000221E099C1B0>), (<carla.libcarla.Waypoint object at 0x00000221E099C210>, <carla.libcarla.Waypoint object at 0x00000221E099C270>), (<carla.libcarla.Waypoint object at 0x00000221E099C2D0>, <carla.libcarla.Waypoint object at 0x00000221E099C330>), (<carla.libcarla.Waypoint object at 0x00000221E099C390>, <carla.libcarla.Waypoint object at 0x00000221E099C3F0>), (<carla.libcarla.Waypoint object at 0x00000221E099C450>, <carla.libcarla.Waypoint object at 0x00000221E099C4B0>), (<carla.libcarla.Waypoint object at 0x00000221E099C510>, <carla.libcarla.Waypoint object at 0x00000221E099C570>), (<carla.libcarla.Waypoint object at 0x00000221E099C5D0>, <carla.libcarla.Waypoint object at 0x00000221E099C630>), (<carla.libcarla.Waypoint object at 0x00000221E099C690>, <carla.libcarla.Waypoint object at 0x00000221E099C6F0>), (<carla.libcarla.Waypoint object at 0x00000221E099C750>, <carla.libcarla.Waypoint object at 0x00000221E099C7B0>), (<carla.libcarla.Waypoint object at 0x00000221E099C810>, <carla.libcarla.Waypoint object at 0x00000221E099C870>), (<carla.libcarla.Waypoint object at 0x00000221E099C8D0>, <carla.libcarla.Waypoint object at 0x00000221E099C930>), (<carla.libcarla.Waypoint object at 0x00000221E099C990>, <carla.libcarla.Waypoint object at 0x00000221E099C9F0>), (<carla.libcarla.Waypoint object at 0x00000221E099CA50>, <carla.libcarla.Waypoint object at 0x00000221E099CAB0>), (<carla.libcarla.Waypoint object at 0x00000221E099CB10>, <carla.libcarla.Waypoint object at 0x00000221E099CB70>), (<carla.libcarla.Waypoint object at 0x00000221E099CBD0>, <carla.libcarla.Waypoint object at 0x00000221E099CC30>), (<carla.libcarla.Waypoint object at 0x00000221E099CC90>, <carla.libcarla.Waypoint object at 0x00000221E099CCF0>), (<carla.libcarla.Waypoint object at 0x00000221E099CD50>, <carla.libcarla.Waypoint object at 0x00000221E099CDB0>), (<carla.libcarla.Waypoint object at 0x00000221E099CE10>, <carla.libcarla.Waypoint object at 0x00000221E099CE70>), (<carla.libcarla.Waypoint object at 0x00000221E099CED0>, <carla.libcarla.Waypoint object at 0x00000221E099CF30>), (<carla.libcarla.Waypoint object at 0x00000221E099CF90>, <carla.libcarla.Waypoint object at 0x00000221E099D030>), (<carla.libcarla.Waypoint object at 0x00000221E099D090>, <carla.libcarla.Waypoint object at 0x00000221E099D0F0>), (<carla.libcarla.Waypoint object at 0x00000221E099D150>, <carla.libcarla.Waypoint object at 0x00000221E099D1B0>), (<carla.libcarla.Waypoint object at 0x00000221E099D210>, <carla.libcarla.Waypoint object at 0x00000221E099D270>), (<carla.libcarla.Waypoint object at 0x00000221E099D2D0>, <carla.libcarla.Waypoint object at 0x00000221E099D330>), (<carla.libcarla.Waypoint object at 0x00000221E099D390>, <carla.libcarla.Waypoint object at 0x00000221E099D3F0>), (<carla.libcarla.Waypoint object at 0x00000221E099D450>, <carla.libcarla.Waypoint object at 0x00000221E099D4B0>), (<carla.libcarla.Waypoint object at 0x00000221E099D510>, <carla.libcarla.Waypoint object at 0x00000221E099D570>), (<carla.libcarla.Waypoint object at 0x00000221E099D5D0>, <carla.libcarla.Waypoint object at 0x00000221E099D630>), (<carla.libcarla.Waypoint object at 0x00000221E099D690>, <carla.libcarla.Waypoint object at 0x00000221E099D6F0>), (<carla.libcarla.Waypoint object at 0x00000221E099D750>, <carla.libcarla.Waypoint object at 0x00000221E099D7B0>), (<carla.libcarla.Waypoint object at 0x00000221E099D810>, <carla.libcarla.Waypoint object at 0x00000221E099D870>), (<carla.libcarla.Waypoint object at 0x00000221E099D8D0>, <carla.libcarla.Waypoint object at 0x00000221E099D930>), (<carla.libcarla.Waypoint object at 0x00000221E099D990>, <carla.libcarla.Waypoint object at 0x00000221E099D9F0>), (<carla.libcarla.Waypoint object at 0x00000221E099DA50>, <carla.libcarla.Waypoint object at 0x00000221E099DAB0>), (<carla.libcarla.Waypoint object at 0x00000221E099DB10>, <carla.libcarla.Waypoint object at 0x00000221E099DB70>), (<carla.libcarla.Waypoint object at 0x00000221E099DBD0>, <carla.libcarla.Waypoint object at 0x00000221E099DC30>), (<carla.libcarla.Waypoint object at 0x00000221E099DC90>, <carla.libcarla.Waypoint object at 0x00000221E099DCF0>), (<carla.libcarla.Waypoint object at 0x00000221E099DD50>, <carla.libcarla.Waypoint object at 0x00000221E099DDB0>), (<carla.libcarla.Waypoint object at 0x00000221E099DE10>, <carla.libcarla.Waypoint object at 0x00000221E099DE70>), (<carla.libcarla.Waypoint object at 0x00000221E099DED0>, <carla.libcarla.Waypoint object at 0x00000221E099DF30>), (<carla.libcarla.Waypoint object at 0x00000221E099DF90>, <carla.libcarla.Waypoint object at 0x00000221E099E030>), (<carla.libcarla.Waypoint object at 0x00000221E099E090>, <carla.libcarla.Waypoint object at 0x00000221E099E0F0>), (<carla.libcarla.Waypoint object at 0x00000221E099E150>, <carla.libcarla.Waypoint object at 0x00000221E099E1B0>), (<carla.libcarla.Waypoint object at 0x00000221E099E210>, <carla.libcarla.Waypoint object at 0x00000221E099E270>), (<carla.libcarla.Waypoint object at 0x00000221E099E2D0>, <carla.libcarla.Waypoint object at 0x00000221E099E330>), (<carla.libcarla.Waypoint object at 0x00000221E099E390>, <carla.libcarla.Waypoint object at 0x00000221E099E3F0>), (<carla.libcarla.Waypoint object at 0x00000221E099E450>, <carla.libcarla.Waypoint object at 0x00000221E099E4B0>), (<carla.libcarla.Waypoint object at 0x00000221E099E510>, <carla.libcarla.Waypoint object at 0x00000221E099E570>), (<carla.libcarla.Waypoint object at 0x00000221E099E5D0>, <carla.libcarla.Waypoint object at 0x00000221E099E630>), (<carla.libcarla.Waypoint object at 0x00000221E099E690>, <carla.libcarla.Waypoint object at 0x00000221E099E6F0>), (<carla.libcarla.Waypoint object at 0x00000221E099E750>, <carla.libcarla.Waypoint object at 0x00000221E099E7B0>), (<carla.libcarla.Waypoint object at 0x00000221E099E810>, <carla.libcarla.Waypoint object at 0x00000221E099E870>), (<carla.libcarla.Waypoint object at 0x00000221E099E8D0>, <carla.libcarla.Waypoint object at 0x00000221E099E930>), (<carla.libcarla.Waypoint object at 0x00000221E099E990>, <carla.libcarla.Waypoint object at 0x00000221E099E9F0>), (<carla.libcarla.Waypoint object at 0x00000221E099EA50>, <carla.libcarla.Waypoint object at 0x00000221E099EAB0>), (<carla.libcarla.Waypoint object at 0x00000221E099EB10>, <carla.libcarla.Waypoint object at 0x00000221E099EB70>), (<carla.libcarla.Waypoint object at 0x00000221E099EBD0>, <carla.libcarla.Waypoint object at 0x00000221E099EC30>), (<carla.libcarla.Waypoint object at 0x00000221E099EC90>, <carla.libcarla.Waypoint object at 0x00000221E099ECF0>), (<carla.libcarla.Waypoint object at 0x00000221E099ED50>, <carla.libcarla.Waypoint object at 0x00000221E099EDB0>), (<carla.libcarla.Waypoint object at 0x00000221E099EE10>, <carla.libcarla.Waypoint object at 0x00000221E099EE70>), (<carla.libcarla.Waypoint object at 0x00000221E099EED0>, <carla.libcarla.Waypoint object at 0x00000221E099EF30>), (<carla.libcarla.Waypoint object at 0x00000221E099EF90>, <carla.libcarla.Waypoint object at 0x00000221E099F030>), (<carla.libcarla.Waypoint object at 0x00000221E099F090>, <carla.libcarla.Waypoint object at 0x00000221E099F0F0>), (<carla.libcarla.Waypoint object at 0x00000221E099F150>, <carla.libcarla.Waypoint object at 0x00000221E099F1B0>), (<carla.libcarla.Waypoint object at 0x00000221E099F210>, <carla.libcarla.Waypoint object at 0x00000221E099F270>), (<carla.libcarla.Waypoint object at 0x00000221E099F2D0>, <carla.libcarla.Waypoint object at 0x00000221E099F330>), (<carla.libcarla.Waypoint object at 0x00000221E099F390>, <carla.libcarla.Waypoint object at 0x00000221E099F3F0>), (<carla.libcarla.Waypoint object at 0x00000221E099F450>, <carla.libcarla.Waypoint object at 0x00000221E099F4B0>), (<carla.libcarla.Waypoint object at 0x00000221E099F510>, <carla.libcarla.Waypoint object at 0x00000221E099F570>), (<carla.libcarla.Waypoint object at 0x00000221E099F5D0>, <carla.libcarla.Waypoint object at 0x00000221E099F630>), (<carla.libcarla.Waypoint object at 0x00000221E099F690>, <carla.libcarla.Waypoint object at 0x00000221E099F6F0>), (<carla.libcarla.Waypoint object at 0x00000221E099F750>, <carla.libcarla.Waypoint object at 0x00000221E099F7B0>), (<carla.libcarla.Waypoint object at 0x00000221E099F810>, <carla.libcarla.Waypoint object at 0x00000221E099F870>), (<carla.libcarla.Waypoint object at 0x00000221E099F8D0>, <carla.libcarla.Waypoint object at 0x00000221E099F930>), (<carla.libcarla.Waypoint object at 0x00000221E099F990>, <carla.libcarla.Waypoint object at 0x00000221E099F9F0>), (<carla.libcarla.Waypoint object at 0x00000221E099FA50>, <carla.libcarla.Waypoint object at 0x00000221E099FAB0>), (<carla.libcarla.Waypoint object at 0x00000221E099FB10>, <carla.libcarla.Waypoint object at 0x00000221E099FB70>), (<carla.libcarla.Waypoint object at 0x00000221E099FBD0>, <carla.libcarla.Waypoint object at 0x00000221E099FC30>), (<carla.libcarla.Waypoint object at 0x00000221E099FC90>, <carla.libcarla.Waypoint object at 0x00000221E099FCF0>), (<carla.libcarla.Waypoint object at 0x00000221E099FD50>, <carla.libcarla.Waypoint object at 0x00000221E099FDB0>), (<carla.libcarla.Waypoint object at 0x00000221E099FE10>, <carla.libcarla.Waypoint object at 0x00000221E099FE70>), (<carla.libcarla.Waypoint object at 0x00000221E099FED0>, <carla.libcarla.Waypoint object at 0x00000221E099FF30>), (<carla.libcarla.Waypoint object at 0x00000221E099FF90>, <carla.libcarla.Waypoint object at 0x00000221E09A0030>), (<carla.libcarla.Waypoint object at 0x00000221E09A0090>, <carla.libcarla.Waypoint object at 0x00000221E09A00F0>), (<carla.libcarla.Waypoint object at 0x00000221E09A0150>, <carla.libcarla.Waypoint object at 0x00000221E09A01B0>), (<carla.libcarla.Waypoint object at 0x00000221E09A0210>, <carla.libcarla.Waypoint object at 0x00000221E09A0270>), (<carla.libcarla.Waypoint object at 0x00000221E09A02D0>, <carla.libcarla.Waypoint object at 0x00000221E09A0330>), (<carla.libcarla.Waypoint object at 0x00000221E09A0390>, <carla.libcarla.Waypoint object at 0x00000221E09A03F0>), (<carla.libcarla.Waypoint object at 0x00000221E09A0450>, <carla.libcarla.Waypoint object at 0x00000221E09A04B0>), (<carla.libcarla.Waypoint object at 0x00000221E09A0510>, <carla.libcarla.Waypoint object at 0x00000221E09A0570>), (<carla.libcarla.Waypoint object at 0x00000221E09A05D0>, <carla.libcarla.Waypoint object at 0x00000221E09A0630>), (<carla.libcarla.Waypoint object at 0x00000221E09A0690>, <carla.libcarla.Waypoint object at 0x00000221E09A06F0>), (<carla.libcarla.Waypoint object at 0x00000221E09A0750>, <carla.libcarla.Waypoint object at 0x00000221E09A07B0>), (<carla.libcarla.Waypoint object at 0x00000221E09A0810>, <carla.libcarla.Waypoint object at 0x00000221E09A0870>), (<carla.libcarla.Waypoint object at 0x00000221E09A08D0>, <carla.libcarla.Waypoint object at 0x00000221E09A0930>), (<carla.libcarla.Waypoint object at 0x00000221E09A0990>, <carla.libcarla.Waypoint object at 0x00000221E09A09F0>), (<carla.libcarla.Waypoint object at 0x00000221E09A0A50>, <carla.libcarla.Waypoint object at 0x00000221E09A0AB0>), (<carla.libcarla.Waypoint object at 0x00000221E09A0B10>, <carla.libcarla.Waypoint object at 0x00000221E09A0B70>), (<carla.libcarla.Waypoint object at 0x00000221E09A0BD0>, <carla.libcarla.Waypoint object at 0x00000221E09A0C30>), (<carla.libcarla.Waypoint object at 0x00000221E09A0C90>, <carla.libcarla.Waypoint object at 0x00000221E09A0CF0>), (<carla.libcarla.Waypoint object at 0x00000221E09A0D50>, <carla.libcarla.Waypoint object at 0x00000221E09A0DB0>), (<carla.libcarla.Waypoint object at 0x00000221E09A0E10>, <carla.libcarla.Waypoint object at 0x00000221E09A0E70>), (<carla.libcarla.Waypoint object at 0x00000221E09A0ED0>, <carla.libcarla.Waypoint object at 0x00000221E09A0F30>), (<carla.libcarla.Waypoint object at 0x00000221E09A0F90>, <carla.libcarla.Waypoint object at 0x00000221E09A1030>), (<carla.libcarla.Waypoint object at 0x00000221E09A1090>, <carla.libcarla.Waypoint object at 0x00000221E09A10F0>), (<carla.libcarla.Waypoint object at 0x00000221E09A1150>, <carla.libcarla.Waypoint object at 0x00000221E09A11B0>), (<carla.libcarla.Waypoint object at 0x00000221E09A1210>, <carla.libcarla.Waypoint object at 0x00000221E09A1270>), (<carla.libcarla.Waypoint object at 0x00000221E09A12D0>, <carla.libcarla.Waypoint object at 0x00000221E09A1330>), (<carla.libcarla.Waypoint object at 0x00000221E09A1390>, <carla.libcarla.Waypoint object at 0x00000221E09A13F0>), (<carla.libcarla.Waypoint object at 0x00000221E09A1450>, <carla.libcarla.Waypoint object at 0x00000221E09A14B0>), (<carla.libcarla.Waypoint object at 0x00000221E09A1510>, <carla.libcarla.Waypoint object at 0x00000221E09A1570>), (<carla.libcarla.Waypoint object at 0x00000221E09A15D0>, <carla.libcarla.Waypoint object at 0x00000221E09A1630>), (<carla.libcarla.Waypoint object at 0x00000221E09A1690>, <carla.libcarla.Waypoint object at 0x00000221E09A16F0>), (<carla.libcarla.Waypoint object at 0x00000221E09A1750>, <carla.libcarla.Waypoint object at 0x00000221E09A17B0>), (<carla.libcarla.Waypoint object at 0x00000221E09A1810>, <carla.libcarla.Waypoint object at 0x00000221E09A1870>), (<carla.libcarla.Waypoint object at 0x00000221E09A18D0>, <carla.libcarla.Waypoint object at 0x00000221E09A1930>), (<carla.libcarla.Waypoint object at 0x00000221E09A1990>, <carla.libcarla.Waypoint object at 0x00000221E09A19F0>), (<carla.libcarla.Waypoint object at 0x00000221E09A1A50>, <carla.libcarla.Waypoint object at 0x00000221E09A1AB0>), (<carla.libcarla.Waypoint object at 0x00000221E09A1B10>, <carla.libcarla.Waypoint object at 0x00000221E09A1B70>), (<carla.libcarla.Waypoint object at 0x00000221E09A1BD0>, <carla.libcarla.Waypoint object at 0x00000221E09A1C30>), (<carla.libcarla.Waypoint object at 0x00000221E09A1C90>, <carla.libcarla.Waypoint object at 0x00000221E09A1CF0>), (<carla.libcarla.Waypoint object at 0x00000221E09A1D50>, <carla.libcarla.Waypoint object at 0x00000221E09A1DB0>), (<carla.libcarla.Waypoint object at 0x00000221E09A1E10>, <carla.libcarla.Waypoint object at 0x00000221E09A1E70>), (<carla.libcarla.Waypoint object at 0x00000221E09A1ED0>, <carla.libcarla.Waypoint object at 0x00000221E09A1F30>), (<carla.libcarla.Waypoint object at 0x00000221E09A1F90>, <carla.libcarla.Waypoint object at 0x00000221E09A2030>), (<carla.libcarla.Waypoint object at 0x00000221E09A2090>, <carla.libcarla.Waypoint object at 0x00000221E09A20F0>), (<carla.libcarla.Waypoint object at 0x00000221E09A2150>, <carla.libcarla.Waypoint object at 0x00000221E09A21B0>), (<carla.libcarla.Waypoint object at 0x00000221E09A2210>, <carla.libcarla.Waypoint object at 0x00000221E09A2270>), (<carla.libcarla.Waypoint object at 0x00000221E09A22D0>, <carla.libcarla.Waypoint object at 0x00000221E09A2330>), (<carla.libcarla.Waypoint object at 0x00000221E09A2390>, <carla.libcarla.Waypoint object at 0x00000221E09A23F0>), (<carla.libcarla.Waypoint object at 0x00000221E09A2450>, <carla.libcarla.Waypoint object at 0x00000221E09A24B0>), (<carla.libcarla.Waypoint object at 0x00000221E09A2510>, <carla.libcarla.Waypoint object at 0x00000221E09A2570>), (<carla.libcarla.Waypoint object at 0x00000221E09A25D0>, <carla.libcarla.Waypoint object at 0x00000221E09A2630>), (<carla.libcarla.Waypoint object at 0x00000221E09A2690>, <carla.libcarla.Waypoint object at 0x00000221E09A26F0>), (<carla.libcarla.Waypoint object at 0x00000221E09A2750>, <carla.libcarla.Waypoint object at 0x00000221E09A27B0>), (<carla.libcarla.Waypoint object at 0x00000221E09A2810>, <carla.libcarla.Waypoint object at 0x00000221E09A2870>), (<carla.libcarla.Waypoint object at 0x00000221E09A28D0>, <carla.libcarla.Waypoint object at 0x00000221E09A2930>), (<carla.libcarla.Waypoint object at 0x00000221E09A2990>, <carla.libcarla.Waypoint object at 0x00000221E09A29F0>), (<carla.libcarla.Waypoint object at 0x00000221E09A2A50>, <carla.libcarla.Waypoint object at 0x00000221E09A2AB0>), (<carla.libcarla.Waypoint object at 0x00000221E09A2B10>, <carla.libcarla.Waypoint object at 0x00000221E09A2B70>), (<carla.libcarla.Waypoint object at 0x00000221E09A2BD0>, <carla.libcarla.Waypoint object at 0x00000221E09A2C30>), (<carla.libcarla.Waypoint object at 0x00000221E09A2C90>, <carla.libcarla.Waypoint object at 0x00000221E09A2CF0>), (<carla.libcarla.Waypoint object at 0x00000221E09A2D50>, <carla.libcarla.Waypoint object at 0x00000221E09A2DB0>), (<carla.libcarla.Waypoint object at 0x00000221E09A2E10>, <carla.libcarla.Waypoint object at 0x00000221E09A2E70>), (<carla.libcarla.Waypoint object at 0x00000221E09A2ED0>, <carla.libcarla.Waypoint object at 0x00000221E09A2F30>), (<carla.libcarla.Waypoint object at 0x00000221E09A2F90>, <carla.libcarla.Waypoint object at 0x00000221E09A4030>), (<carla.libcarla.Waypoint object at 0x00000221E09A4090>, <carla.libcarla.Waypoint object at 0x00000221E09A40F0>), (<carla.libcarla.Waypoint object at 0x00000221E09A4150>, <carla.libcarla.Waypoint object at 0x00000221E09A41B0>), (<carla.libcarla.Waypoint object at 0x00000221E09A4210>, <carla.libcarla.Waypoint object at 0x00000221E09A4270>), (<carla.libcarla.Waypoint object at 0x00000221E09A42D0>, <carla.libcarla.Waypoint object at 0x00000221E09A4330>), (<carla.libcarla.Waypoint object at 0x00000221E09A4390>, <carla.libcarla.Waypoint object at 0x00000221E09A43F0>), (<carla.libcarla.Waypoint object at 0x00000221E09A4450>, <carla.libcarla.Waypoint object at 0x00000221E09A44B0>), (<carla.libcarla.Waypoint object at 0x00000221E09A4510>, <carla.libcarla.Waypoint object at 0x00000221E09A4570>), (<carla.libcarla.Waypoint object at 0x00000221E09A45D0>, <carla.libcarla.Waypoint object at 0x00000221E09A4630>), (<carla.libcarla.Waypoint object at 0x00000221E09A4690>, <carla.libcarla.Waypoint object at 0x00000221E09A46F0>), (<carla.libcarla.Waypoint object at 0x00000221E09A4750>, <carla.libcarla.Waypoint object at 0x00000221E09A47B0>), (<carla.libcarla.Waypoint object at 0x00000221E09A4810>, <carla.libcarla.Waypoint object at 0x00000221E09A4870>), (<carla.libcarla.Waypoint object at 0x00000221E09A48D0>, <carla.libcarla.Waypoint object at 0x00000221E09A4930>), (<carla.libcarla.Waypoint object at 0x00000221E09A4990>, <carla.libcarla.Waypoint object at 0x00000221E09A49F0>), (<carla.libcarla.Waypoint object at 0x00000221E09A4A50>, <carla.libcarla.Waypoint object at 0x00000221E09A4AB0>), (<carla.libcarla.Waypoint object at 0x00000221E09A4B10>, <carla.libcarla.Waypoint object at 0x00000221E09A4B70>), (<carla.libcarla.Waypoint object at 0x00000221E09A4BD0>, <carla.libcarla.Waypoint object at 0x00000221E09A4C30>), (<carla.libcarla.Waypoint object at 0x00000221E09A4C90>, <carla.libcarla.Waypoint object at 0x00000221E09A4CF0>), (<carla.libcarla.Waypoint object at 0x00000221E09A4D50>, <carla.libcarla.Waypoint object at 0x00000221E09A4DB0>), (<carla.libcarla.Waypoint object at 0x00000221E09A4E10>, <carla.libcarla.Waypoint object at 0x00000221E09A4E70>), (<carla.libcarla.Waypoint object at 0x00000221E09A4ED0>, <carla.libcarla.Waypoint object at 0x00000221E09A4F30>), (<carla.libcarla.Waypoint object at 0x00000221E09A4F90>, <carla.libcarla.Waypoint object at 0x00000221E09A5030>), (<carla.libcarla.Waypoint object at 0x00000221E09A5090>, <carla.libcarla.Waypoint object at 0x00000221E09A50F0>), (<carla.libcarla.Waypoint object at 0x00000221E09A5150>, <carla.libcarla.Waypoint object at 0x00000221E09A51B0>), (<carla.libcarla.Waypoint object at 0x00000221E09A5210>, <carla.libcarla.Waypoint object at 0x00000221E09A5270>), (<carla.libcarla.Waypoint object at 0x00000221E09A52D0>, <carla.libcarla.Waypoint object at 0x00000221E09A5330>), (<carla.libcarla.Waypoint object at 0x00000221E09A5390>, <carla.libcarla.Waypoint object at 0x00000221E09A53F0>), (<carla.libcarla.Waypoint object at 0x00000221E09A5450>, <carla.libcarla.Waypoint object at 0x00000221E09A54B0>), (<carla.libcarla.Waypoint object at 0x00000221E09A5510>, <carla.libcarla.Waypoint object at 0x00000221E09A5570>), (<carla.libcarla.Waypoint object at 0x00000221E09A55D0>, <carla.libcarla.Waypoint object at 0x00000221E09A5630>), (<carla.libcarla.Waypoint object at 0x00000221E09A5690>, <carla.libcarla.Waypoint object at 0x00000221E09A56F0>), (<carla.libcarla.Waypoint object at 0x00000221E09A5750>, <carla.libcarla.Waypoint object at 0x00000221E09A57B0>), (<carla.libcarla.Waypoint object at 0x00000221E09A5810>, <carla.libcarla.Waypoint object at 0x00000221E09A5870>), (<carla.libcarla.Waypoint object at 0x00000221E09A58D0>, <carla.libcarla.Waypoint object at 0x00000221E09A5930>), (<carla.libcarla.Waypoint object at 0x00000221E09A5990>, <carla.libcarla.Waypoint object at 0x00000221E09A59F0>), (<carla.libcarla.Waypoint object at 0x00000221E09A5A50>, <carla.libcarla.Waypoint object at 0x00000221E09A5AB0>), (<carla.libcarla.Waypoint object at 0x00000221E09A5B10>, <carla.libcarla.Waypoint object at 0x00000221E09A5B70>), (<carla.libcarla.Waypoint object at 0x00000221E09A5BD0>, <carla.libcarla.Waypoint object at 0x00000221E09A5C30>), (<carla.libcarla.Waypoint object at 0x00000221E09A5C90>, <carla.libcarla.Waypoint object at 0x00000221E09A5CF0>), (<carla.libcarla.Waypoint object at 0x00000221E09A5D50>, <carla.libcarla.Waypoint object at 0x00000221E09A5DB0>), (<carla.libcarla.Waypoint object at 0x00000221E09A5E10>, <carla.libcarla.Waypoint object at 0x00000221E09A5E70>), (<carla.libcarla.Waypoint object at 0x00000221E09A5ED0>, <carla.libcarla.Waypoint object at 0x00000221E09A5F30>), (<carla.libcarla.Waypoint object at 0x00000221E09A5F90>, <carla.libcarla.Waypoint object at 0x00000221E09A6030>), (<carla.libcarla.Waypoint object at 0x00000221E09A6090>, <carla.libcarla.Waypoint object at 0x00000221E09A60F0>), (<carla.libcarla.Waypoint object at 0x00000221E09A6150>, <carla.libcarla.Waypoint object at 0x00000221E09A61B0>), (<carla.libcarla.Waypoint object at 0x00000221E09A6210>, <carla.libcarla.Waypoint object at 0x00000221E09A6270>), (<carla.libcarla.Waypoint object at 0x00000221E09A62D0>, <carla.libcarla.Waypoint object at 0x00000221E09A6330>), (<carla.libcarla.Waypoint object at 0x00000221E09A6390>, <carla.libcarla.Waypoint object at 0x00000221E09A63F0>), (<carla.libcarla.Waypoint object at 0x00000221E09A6450>, <carla.libcarla.Waypoint object at 0x00000221E09A64B0>), (<carla.libcarla.Waypoint object at 0x00000221E09A6510>, <carla.libcarla.Waypoint object at 0x00000221E09A6570>), (<carla.libcarla.Waypoint object at 0x00000221E09A65D0>, <carla.libcarla.Waypoint object at 0x00000221E09A6630>), (<carla.libcarla.Waypoint object at 0x00000221E09A6690>, <carla.libcarla.Waypoint object at 0x00000221E09A66F0>), (<carla.libcarla.Waypoint object at 0x00000221E09A6750>, <carla.libcarla.Waypoint object at 0x00000221E09A67B0>), (<carla.libcarla.Waypoint object at 0x00000221E09A6810>, <carla.libcarla.Waypoint object at 0x00000221E09A6870>), (<carla.libcarla.Waypoint object at 0x00000221E09A68D0>, <carla.libcarla.Waypoint object at 0x00000221E09A6930>), (<carla.libcarla.Waypoint object at 0x00000221E09A6990>, <carla.libcarla.Waypoint object at 0x00000221E09A69F0>), (<carla.libcarla.Waypoint object at 0x00000221E09A6A50>, <carla.libcarla.Waypoint object at 0x00000221E09A6AB0>), (<carla.libcarla.Waypoint object at 0x00000221E09A6B10>, <carla.libcarla.Waypoint object at 0x00000221E09A6B70>), (<carla.libcarla.Waypoint object at 0x00000221E09A6BD0>, <carla.libcarla.Waypoint object at 0x00000221E09A6C30>), (<carla.libcarla.Waypoint object at 0x00000221E09A6C90>, <carla.libcarla.Waypoint object at 0x00000221E09A6CF0>), (<carla.libcarla.Waypoint object at 0x00000221E09A6D50>, <carla.libcarla.Waypoint object at 0x00000221E09A6DB0>), (<carla.libcarla.Waypoint object at 0x00000221E09A6E10>, <carla.libcarla.Waypoint object at 0x00000221E09A6E70>), (<carla.libcarla.Waypoint object at 0x00000221E09A6ED0>, <carla.libcarla.Waypoint object at 0x00000221E09A6F30>), (<carla.libcarla.Waypoint object at 0x00000221E09A6F90>, <carla.libcarla.Waypoint object at 0x00000221E09A8030>), (<carla.libcarla.Waypoint object at 0x00000221E09A8090>, <carla.libcarla.Waypoint object at 0x00000221E09A80F0>), (<carla.libcarla.Waypoint object at 0x00000221E09A8150>, <carla.libcarla.Waypoint object at 0x00000221E09A81B0>), (<carla.libcarla.Waypoint object at 0x00000221E09A8210>, <carla.libcarla.Waypoint object at 0x00000221E09A8270>), (<carla.libcarla.Waypoint object at 0x00000221E09A82D0>, <carla.libcarla.Waypoint object at 0x00000221E09A8330>), (<carla.libcarla.Waypoint object at 0x00000221E09A8390>, <carla.libcarla.Waypoint object at 0x00000221E09A83F0>), (<carla.libcarla.Waypoint object at 0x00000221E09A8450>, <carla.libcarla.Waypoint object at 0x00000221E09A84B0>), (<carla.libcarla.Waypoint object at 0x00000221E09A8510>, <carla.libcarla.Waypoint object at 0x00000221E09A8570>), (<carla.libcarla.Waypoint object at 0x00000221E09A85D0>, <carla.libcarla.Waypoint object at 0x00000221E09A8630>), (<carla.libcarla.Waypoint object at 0x00000221E09A8690>, <carla.libcarla.Waypoint object at 0x00000221E09A86F0>), (<carla.libcarla.Waypoint object at 0x00000221E09A8750>, <carla.libcarla.Waypoint object at 0x00000221E09A87B0>), (<carla.libcarla.Waypoint object at 0x00000221E09A8810>, <carla.libcarla.Waypoint object at 0x00000221E09A8870>), (<carla.libcarla.Waypoint object at 0x00000221E09A88D0>, <carla.libcarla.Waypoint object at 0x00000221E09A8930>), (<carla.libcarla.Waypoint object at 0x00000221E09A8990>, <carla.libcarla.Waypoint object at 0x00000221E09A89F0>), (<carla.libcarla.Waypoint object at 0x00000221E09A8A50>, <carla.libcarla.Waypoint object at 0x00000221E09A8AB0>), (<carla.libcarla.Waypoint object at 0x00000221E09A8B10>, <carla.libcarla.Waypoint object at 0x00000221E09A8B70>), (<carla.libcarla.Waypoint object at 0x00000221E09A8BD0>, <carla.libcarla.Waypoint object at 0x00000221E09A8C30>), (<carla.libcarla.Waypoint object at 0x00000221E09A8C90>, <carla.libcarla.Waypoint object at 0x00000221E09A8CF0>), (<carla.libcarla.Waypoint object at 0x00000221E09A8D50>, <carla.libcarla.Waypoint object at 0x00000221E09A8DB0>), (<carla.libcarla.Waypoint object at 0x00000221E09A8E10>, <carla.libcarla.Waypoint object at 0x00000221E09A8E70>), (<carla.libcarla.Waypoint object at 0x00000221E09A8ED0>, <carla.libcarla.Waypoint object at 0x00000221E09A8F30>), (<carla.libcarla.Waypoint object at 0x00000221E09A8F90>, <carla.libcarla.Waypoint object at 0x00000221E09A9030>), (<carla.libcarla.Waypoint object at 0x00000221E09A9090>, <carla.libcarla.Waypoint object at 0x00000221E09A90F0>), (<carla.libcarla.Waypoint object at 0x00000221E09A9150>, <carla.libcarla.Waypoint object at 0x00000221E09A91B0>), (<carla.libcarla.Waypoint object at 0x00000221E09A9210>, <carla.libcarla.Waypoint object at 0x00000221E09A9270>), (<carla.libcarla.Waypoint object at 0x00000221E09A92D0>, <carla.libcarla.Waypoint object at 0x00000221E09A9330>), (<carla.libcarla.Waypoint object at 0x00000221E09A9390>, <carla.libcarla.Waypoint object at 0x00000221E09A93F0>), (<carla.libcarla.Waypoint object at 0x00000221E09A9450>, <carla.libcarla.Waypoint object at 0x00000221E09A94B0>), (<carla.libcarla.Waypoint object at 0x00000221E09A9510>, <carla.libcarla.Waypoint object at 0x00000221E09A9570>), (<carla.libcarla.Waypoint object at 0x00000221E09A95D0>, <carla.libcarla.Waypoint object at 0x00000221E09A9630>), (<carla.libcarla.Waypoint object at 0x00000221E09A9690>, <carla.libcarla.Waypoint object at 0x00000221E09A96F0>), (<carla.libcarla.Waypoint object at 0x00000221E09A9750>, <carla.libcarla.Waypoint object at 0x00000221E09A97B0>), (<carla.libcarla.Waypoint object at 0x00000221E09A9810>, <carla.libcarla.Waypoint object at 0x00000221E09A9870>), (<carla.libcarla.Waypoint object at 0x00000221E09A98D0>, <carla.libcarla.Waypoint object at 0x00000221E09A9930>), (<carla.libcarla.Waypoint object at 0x00000221E09A9990>, <carla.libcarla.Waypoint object at 0x00000221E09A99F0>), (<carla.libcarla.Waypoint object at 0x00000221E09A9A50>, <carla.libcarla.Waypoint object at 0x00000221E09A9AB0>), (<carla.libcarla.Waypoint object at 0x00000221E09A9B10>, <carla.libcarla.Waypoint object at 0x00000221E09A9B70>), (<carla.libcarla.Waypoint object at 0x00000221E09A9BD0>, <carla.libcarla.Waypoint object at 0x00000221E09A9C30>), (<carla.libcarla.Waypoint object at 0x00000221E09A9C90>, <carla.libcarla.Waypoint object at 0x00000221E09A9CF0>), (<carla.libcarla.Waypoint object at 0x00000221E09A9D50>, <carla.libcarla.Waypoint object at 0x00000221E09A9DB0>), (<carla.libcarla.Waypoint object at 0x00000221E09A9E10>, <carla.libcarla.Waypoint object at 0x00000221E09A9E70>), (<carla.libcarla.Waypoint object at 0x00000221E09A9ED0>, <carla.libcarla.Waypoint object at 0x00000221E09A9F30>), (<carla.libcarla.Waypoint object at 0x00000221E09A9F90>, <carla.libcarla.Waypoint object at 0x00000221E09AA030>), (<carla.libcarla.Waypoint object at 0x00000221E09AA090>, <carla.libcarla.Waypoint object at 0x00000221E09AA0F0>), (<carla.libcarla.Waypoint object at 0x00000221E09AA150>, <carla.libcarla.Waypoint object at 0x00000221E09AA1B0>), (<carla.libcarla.Waypoint object at 0x00000221E09AA210>, <carla.libcarla.Waypoint object at 0x00000221E09AA270>), (<carla.libcarla.Waypoint object at 0x00000221E09AA2D0>, <carla.libcarla.Waypoint object at 0x00000221E09AA330>), (<carla.libcarla.Waypoint object at 0x00000221E09AA390>, <carla.libcarla.Waypoint object at 0x00000221E09AA3F0>), (<carla.libcarla.Waypoint object at 0x00000221E09AA450>, <carla.libcarla.Waypoint object at 0x00000221E09AA4B0>), (<carla.libcarla.Waypoint object at 0x00000221E09AA510>, <carla.libcarla.Waypoint object at 0x00000221E09AA570>), (<carla.libcarla.Waypoint object at 0x00000221E09AA5D0>, <carla.libcarla.Waypoint object at 0x00000221E09AA630>), (<carla.libcarla.Waypoint object at 0x00000221E09AA690>, <carla.libcarla.Waypoint object at 0x00000221E09AA6F0>), (<carla.libcarla.Waypoint object at 0x00000221E09AA750>, <carla.libcarla.Waypoint object at 0x00000221E09AA7B0>), (<carla.libcarla.Waypoint object at 0x00000221E09AA810>, <carla.libcarla.Waypoint object at 0x00000221E09AA870>), (<carla.libcarla.Waypoint object at 0x00000221E09AA8D0>, <carla.libcarla.Waypoint object at 0x00000221E09AA930>), (<carla.libcarla.Waypoint object at 0x00000221E09AA990>, <carla.libcarla.Waypoint object at 0x00000221E09AA9F0>), (<carla.libcarla.Waypoint object at 0x00000221E09AAA50>, <carla.libcarla.Waypoint object at 0x00000221E09AAAB0>), (<carla.libcarla.Waypoint object at 0x00000221E09AAB10>, <carla.libcarla.Waypoint object at 0x00000221E09AAB70>), (<carla.libcarla.Waypoint object at 0x00000221E09AABD0>, <carla.libcarla.Waypoint object at 0x00000221E09AAC30>), (<carla.libcarla.Waypoint object at 0x00000221E09AAC90>, <carla.libcarla.Waypoint object at 0x00000221E09AACF0>), (<carla.libcarla.Waypoint object at 0x00000221E09AAD50>, <carla.libcarla.Waypoint object at 0x00000221E09AADB0>), (<carla.libcarla.Waypoint object at 0x00000221E09AAE10>, <carla.libcarla.Waypoint object at 0x00000221E09AAE70>), (<carla.libcarla.Waypoint object at 0x00000221E09AAED0>, <carla.libcarla.Waypoint object at 0x00000221E09AAF30>), (<carla.libcarla.Waypoint object at 0x00000221E09AAF90>, <carla.libcarla.Waypoint object at 0x00000221E09AC030>), (<carla.libcarla.Waypoint object at 0x00000221E09AC090>, <carla.libcarla.Waypoint object at 0x00000221E09AC0F0>), (<carla.libcarla.Waypoint object at 0x00000221E09AC150>, <carla.libcarla.Waypoint object at 0x00000221E09AC1B0>), (<carla.libcarla.Waypoint object at 0x00000221E09AC210>, <carla.libcarla.Waypoint object at 0x00000221E09AC270>), (<carla.libcarla.Waypoint object at 0x00000221E09AC2D0>, <carla.libcarla.Waypoint object at 0x00000221E09AC330>), (<carla.libcarla.Waypoint object at 0x00000221E09AC390>, <carla.libcarla.Waypoint object at 0x00000221E09AC3F0>), (<carla.libcarla.Waypoint object at 0x00000221E09AC450>, <carla.libcarla.Waypoint object at 0x00000221E09AC4B0>), (<carla.libcarla.Waypoint object at 0x00000221E09AC510>, <carla.libcarla.Waypoint object at 0x00000221E09AC570>), (<carla.libcarla.Waypoint object at 0x00000221E09AC5D0>, <carla.libcarla.Waypoint object at 0x00000221E09AC630>), (<carla.libcarla.Waypoint object at 0x00000221E09AC690>, <carla.libcarla.Waypoint object at 0x00000221E09AC6F0>), (<carla.libcarla.Waypoint object at 0x00000221E09AC750>, <carla.libcarla.Waypoint object at 0x00000221E09AC7B0>), (<carla.libcarla.Waypoint object at 0x00000221E09AC810>, <carla.libcarla.Waypoint object at 0x00000221E09AC870>), (<carla.libcarla.Waypoint object at 0x00000221E09AC8D0>, <carla.libcarla.Waypoint object at 0x00000221E09AC930>), (<carla.libcarla.Waypoint object at 0x00000221E09AC990>, <carla.libcarla.Waypoint object at 0x00000221E09AC9F0>), (<carla.libcarla.Waypoint object at 0x00000221E09ACA50>, <carla.libcarla.Waypoint object at 0x00000221E09ACAB0>), (<carla.libcarla.Waypoint object at 0x00000221E09ACB10>, <carla.libcarla.Waypoint object at 0x00000221E09ACB70>), (<carla.libcarla.Waypoint object at 0x00000221E09ACBD0>, <carla.libcarla.Waypoint object at 0x00000221E09ACC30>), (<carla.libcarla.Waypoint object at 0x00000221E09ACC90>, <carla.libcarla.Waypoint object at 0x00000221E09ACCF0>), (<carla.libcarla.Waypoint object at 0x00000221E09ACD50>, <carla.libcarla.Waypoint object at 0x00000221E09ACDB0>), (<carla.libcarla.Waypoint object at 0x00000221E09ACE10>, <carla.libcarla.Waypoint object at 0x00000221E09ACE70>), (<carla.libcarla.Waypoint object at 0x00000221E09ACED0>, <carla.libcarla.Waypoint object at 0x00000221E09ACF30>), (<carla.libcarla.Waypoint object at 0x00000221E09ACF90>, <carla.libcarla.Waypoint object at 0x00000221E09AD030>), (<carla.libcarla.Waypoint object at 0x00000221E09AD090>, <carla.libcarla.Waypoint object at 0x00000221E09AD0F0>), (<carla.libcarla.Waypoint object at 0x00000221E09AD150>, <carla.libcarla.Waypoint object at 0x00000221E09AD1B0>), (<carla.libcarla.Waypoint object at 0x00000221E09AD210>, <carla.libcarla.Waypoint object at 0x00000221E09AD270>), (<carla.libcarla.Waypoint object at 0x00000221E09AD2D0>, <carla.libcarla.Waypoint object at 0x00000221E09AD330>), (<carla.libcarla.Waypoint object at 0x00000221E09AD390>, <carla.libcarla.Waypoint object at 0x00000221E09AD3F0>), (<carla.libcarla.Waypoint object at 0x00000221E09AD450>, <carla.libcarla.Waypoint object at 0x00000221E09AD4B0>), (<carla.libcarla.Waypoint object at 0x00000221E09AD510>, <carla.libcarla.Waypoint object at 0x00000221E09AD570>), (<carla.libcarla.Waypoint object at 0x00000221E09AD5D0>, <carla.libcarla.Waypoint object at 0x00000221E09AD630>), (<carla.libcarla.Waypoint object at 0x00000221E09AD690>, <carla.libcarla.Waypoint object at 0x00000221E09AD6F0>), (<carla.libcarla.Waypoint object at 0x00000221E09AD750>, <carla.libcarla.Waypoint object at 0x00000221E09AD7B0>), (<carla.libcarla.Waypoint object at 0x00000221E09AD810>, <carla.libcarla.Waypoint object at 0x00000221E09AD870>), (<carla.libcarla.Waypoint object at 0x00000221E09AD8D0>, <carla.libcarla.Waypoint object at 0x00000221E09AD930>), (<carla.libcarla.Waypoint object at 0x00000221E09AD990>, <carla.libcarla.Waypoint object at 0x00000221E09AD9F0>), (<carla.libcarla.Waypoint object at 0x00000221E09ADA50>, <carla.libcarla.Waypoint object at 0x00000221E09ADAB0>), (<carla.libcarla.Waypoint object at 0x00000221E09ADB10>, <carla.libcarla.Waypoint object at 0x00000221E09ADB70>), (<carla.libcarla.Waypoint object at 0x00000221E09ADBD0>, <carla.libcarla.Waypoint object at 0x00000221E09ADC30>), (<carla.libcarla.Waypoint object at 0x00000221E09ADC90>, <carla.libcarla.Waypoint object at 0x00000221E09ADCF0>), (<carla.libcarla.Waypoint object at 0x00000221E09ADD50>, <carla.libcarla.Waypoint object at 0x00000221E09ADDB0>), (<carla.libcarla.Waypoint object at 0x00000221E09ADE10>, <carla.libcarla.Waypoint object at 0x00000221E09ADE70>), (<carla.libcarla.Waypoint object at 0x00000221E09ADED0>, <carla.libcarla.Waypoint object at 0x00000221E09ADF30>), (<carla.libcarla.Waypoint object at 0x00000221E09ADF90>, <carla.libcarla.Waypoint object at 0x00000221E09AE030>), (<carla.libcarla.Waypoint object at 0x00000221E09AE090>, <carla.libcarla.Waypoint object at 0x00000221E09AE0F0>), (<carla.libcarla.Waypoint object at 0x00000221E09AE150>, <carla.libcarla.Waypoint object at 0x00000221E09AE1B0>), (<carla.libcarla.Waypoint object at 0x00000221E09AE210>, <carla.libcarla.Waypoint object at 0x00000221E09AE270>), (<carla.libcarla.Waypoint object at 0x00000221E09AE2D0>, <carla.libcarla.Waypoint object at 0x00000221E09AE330>), (<carla.libcarla.Waypoint object at 0x00000221E09AE390>, <carla.libcarla.Waypoint object at 0x00000221E09AE3F0>), (<carla.libcarla.Waypoint object at 0x00000221E09AE450>, <carla.libcarla.Waypoint object at 0x00000221E09AE4B0>), (<carla.libcarla.Waypoint object at 0x00000221E09AE510>, <carla.libcarla.Waypoint object at 0x00000221E09AE570>), (<carla.libcarla.Waypoint object at 0x00000221E09AE5D0>, <carla.libcarla.Waypoint object at 0x00000221E09AE630>), (<carla.libcarla.Waypoint object at 0x00000221E09AE690>, <carla.libcarla.Waypoint object at 0x00000221E09AE6F0>), (<carla.libcarla.Waypoint object at 0x00000221E09AE750>, <carla.libcarla.Waypoint object at 0x00000221E09AE7B0>), (<carla.libcarla.Waypoint object at 0x00000221E09AE810>, <carla.libcarla.Waypoint object at 0x00000221E09AE870>), (<carla.libcarla.Waypoint object at 0x00000221E09AE8D0>, <carla.libcarla.Waypoint object at 0x00000221E09AE930>), (<carla.libcarla.Waypoint object at 0x00000221E09AE990>, <carla.libcarla.Waypoint object at 0x00000221E09AE9F0>), (<carla.libcarla.Waypoint object at 0x00000221E09AEA50>, <carla.libcarla.Waypoint object at 0x00000221E09AEAB0>), (<carla.libcarla.Waypoint object at 0x00000221E09AEB10>, <carla.libcarla.Waypoint object at 0x00000221E09AEB70>), (<carla.libcarla.Waypoint object at 0x00000221E09AEBD0>, <carla.libcarla.Waypoint object at 0x00000221E09AEC30>), (<carla.libcarla.Waypoint object at 0x00000221E09AEC90>, <carla.libcarla.Waypoint object at 0x00000221E09AECF0>), (<carla.libcarla.Waypoint object at 0x00000221E09AED50>, <carla.libcarla.Waypoint object at 0x00000221E09AEDB0>), (<carla.libcarla.Waypoint object at 0x00000221E09AEE10>, <carla.libcarla.Waypoint object at 0x00000221E09AEE70>), (<carla.libcarla.Waypoint object at 0x00000221E09AEED0>, <carla.libcarla.Waypoint object at 0x00000221E09AEF30>), (<carla.libcarla.Waypoint object at 0x00000221E09AEF90>, <carla.libcarla.Waypoint object at 0x00000221E09B0030>), (<carla.libcarla.Waypoint object at 0x00000221E09B0090>, <carla.libcarla.Waypoint object at 0x00000221E09B00F0>), (<carla.libcarla.Waypoint object at 0x00000221E09B0150>, <carla.libcarla.Waypoint object at 0x00000221E09B01B0>), (<carla.libcarla.Waypoint object at 0x00000221E09B0210>, <carla.libcarla.Waypoint object at 0x00000221E09B0270>), (<carla.libcarla.Waypoint object at 0x00000221E09B02D0>, <carla.libcarla.Waypoint object at 0x00000221E09B0330>), (<carla.libcarla.Waypoint object at 0x00000221E09B0390>, <carla.libcarla.Waypoint object at 0x00000221E09B03F0>), (<carla.libcarla.Waypoint object at 0x00000221E09B0450>, <carla.libcarla.Waypoint object at 0x00000221E09B04B0>), (<carla.libcarla.Waypoint object at 0x00000221E09B0510>, <carla.libcarla.Waypoint object at 0x00000221E09B0570>), (<carla.libcarla.Waypoint object at 0x00000221E09B05D0>, <carla.libcarla.Waypoint object at 0x00000221E09B0630>), (<carla.libcarla.Waypoint object at 0x00000221E09B0690>, <carla.libcarla.Waypoint object at 0x00000221E09B06F0>), (<carla.libcarla.Waypoint object at 0x00000221E09B0750>, <carla.libcarla.Waypoint object at 0x00000221E09B07B0>), (<carla.libcarla.Waypoint object at 0x00000221E09B0810>, <carla.libcarla.Waypoint object at 0x00000221E09B0870>), (<carla.libcarla.Waypoint object at 0x00000221E09B08D0>, <carla.libcarla.Waypoint object at 0x00000221E09B0930>), (<carla.libcarla.Waypoint object at 0x00000221E09B0990>, <carla.libcarla.Waypoint object at 0x00000221E09B09F0>)]\n"
     ]
    }
   ],
   "source": [
    "#getting topology\n",
    "roads=town_map.get_topology()\n",
    "print(roads)"
   ]
  },
  {
   "cell_type": "code",
   "execution_count": 17,
   "id": "9ed2eda0",
   "metadata": {},
   "outputs": [],
   "source": [
    "#import sys for sim to define a route for our car\n",
    "import sys\n",
    "sys.path.append('E:/CAR/WindowsNoEditor/PythonAPI/carla')\n",
    "from agents.navigation.global_route_planner import GlobalRoutePlanner"
   ]
  },
  {
   "cell_type": "code",
   "execution_count": 18,
   "id": "d6b71397",
   "metadata": {},
   "outputs": [
    {
     "name": "stdout",
     "output_type": "stream",
     "text": [
      "Waypoint(Transform(Location(x=213.341553, y=-307.859070, z=0.004349), Rotation(pitch=0.000000, yaw=0.589784, roll=0.000000)))\n"
     ]
    }
   ],
   "source": [
    "print(roads[0][0])"
   ]
  },
  {
   "cell_type": "code",
   "execution_count": 19,
   "id": "9912da79",
   "metadata": {},
   "outputs": [
    {
     "data": {
      "text/plain": [
       "559"
      ]
     },
     "execution_count": 19,
     "metadata": {},
     "output_type": "execute_result"
    }
   ],
   "source": [
    "len(roads)"
   ]
  },
  {
   "cell_type": "code",
   "execution_count": null,
   "id": "d984b39b",
   "metadata": {},
   "outputs": [],
   "source": [
    "#fixing two routes for our car to go\n",
    "sampling_resolution=2\n",
    "grp=GlobalRoutePlanner(town_map,sampling_resolution)\n",
    "point_a=carla.Location(x=388.481506, y=-134.744522, z=-0.009640)\n",
    "point_b=carla.Location(x=25.259499, y=-49.834530, z=1.488399)\n",
    "\n",
    "route=grp.trace_route(point_a,point_b)\n",
    "\n",
    "for waypoint in route:\n",
    "    world.debug.draw_string(waypoint[0].transform.location,'*',draw_shadow=False,\n",
    "                           color=carla.Color(r=0,g=255,b=255),life_time=120.0,\n",
    "                           persistent_lines=True)"
   ]
  },
  {
   "cell_type": "code",
   "execution_count": 27,
   "id": "52fc6fbe",
   "metadata": {},
   "outputs": [],
   "source": [
    "#utility script of destruction\n",
    "for actor in world.get_actors().filter('*vehicle*'):\n",
    "    actor.destroy()\n",
    "for sensor in world.get_actors().filter('*sensor*'):\n",
    "    sensor.destroy()"
   ]
  },
  {
   "cell_type": "code",
   "execution_count": null,
   "id": "ca616c53",
   "metadata": {},
   "outputs": [],
   "source": [
    "#defining few more cars\n",
    "truck_bp=world.get_blueprint_library().filter('*firetruck*')\n",
    "mini_bp=world.get_blueprint_library().filter('*cooper_s*')\n",
    "truck=world.try_spawn_actor(truck_bp[0],st_pt)\n"
   ]
  },
  {
   "cell_type": "code",
   "execution_count": null,
   "id": "b15f11af",
   "metadata": {},
   "outputs": [],
   "source": [
    "spect=world.get_spectator()\n",
    "spwan_points=world.get_map().get_spawn_points()\n",
    "st_pt=spwan_points[0]\n",
    "spectator_pos=carla.Transform(st_pt.location+carla.Location(x=20,y=10,z=4),\n",
    "                             carla.Rotation(yaw=st_pt.rotation.yaw -155))\n",
    "spect.set_transform(spectator_pos)"
   ]
  },
  {
   "cell_type": "code",
   "execution_count": null,
   "id": "c7864129",
   "metadata": {},
   "outputs": [],
   "source": [
    "Hero_vehicle=world.try_spawn_actor(mini_bp[0],st_pt)\n",
    "mini_pos=carla.Transform(st_pt.location+carla.Location(x=-4,z=10),\n",
    "                             carla.Rotation(yaw=st_pt.rotation.yaw -0))\n",
    "Hero_vehicle.set_transform(mini_pos)"
   ]
  },
  {
   "cell_type": "code",
   "execution_count": null,
   "id": "28034eb8",
   "metadata": {},
   "outputs": [],
   "source": [
    "Hero_vehicle.set_autopilot(True)"
   ]
  },
  {
   "cell_type": "code",
   "execution_count": null,
   "id": "43679c03",
   "metadata": {},
   "outputs": [],
   "source": [
    "# To import a basic agent\n",
    "from agents.navigation.basic_agent import BasicAgent\n",
    "\n",
    "# To import a behavior agent\n",
    "from agents.navigation.behavior_agent import BehaviorAgent\n"
   ]
  },
  {
   "cell_type": "code",
   "execution_count": null,
   "id": "d7e4b456",
   "metadata": {},
   "outputs": [],
   "source": [
    "pip install agents\n",
    "pip install shapely"
   ]
  },
  {
   "cell_type": "code",
   "execution_count": null,
   "id": "5e21c016",
   "metadata": {},
   "outputs": [],
   "source": [
    "agent = BasicAgent(Hero_vehicle)\n",
    "\n",
    "# To start a behavior agent with an aggressive profile\n",
    "agent = BehaviorAgent(Hero_vehicle, behavior='aggressive')\n",
    "destination = random.choice(point_b).Location\n",
    "agent.set_destination(destination)"
   ]
  },
  {
   "cell_type": "code",
   "execution_count": null,
   "id": "e3ce202d",
   "metadata": {},
   "outputs": [],
   "source": [
    "while True:\n",
    "    if agent.done():\n",
    "        print(\"The target has been reached, stopping the simulation\")\n",
    "        break\n",
    "\n",
    "    Hero_vehicle.apply_control(agent.run_step())"
   ]
  },
  {
   "cell_type": "code",
   "execution_count": null,
   "id": "e1f7df30",
   "metadata": {},
   "outputs": [],
   "source": []
  }
 ],
 "metadata": {
  "kernelspec": {
   "display_name": "Python 3 (ipykernel)",
   "language": "python",
   "name": "python3"
  },
  "language_info": {
   "codemirror_mode": {
    "name": "ipython",
    "version": 3
   },
   "file_extension": ".py",
   "mimetype": "text/x-python",
   "name": "python",
   "nbconvert_exporter": "python",
   "pygments_lexer": "ipython3",
   "version": "3.7.16"
  }
 },
 "nbformat": 4,
 "nbformat_minor": 5
}
