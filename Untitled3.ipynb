{
 "cells": [
  {
   "cell_type": "code",
   "execution_count": 1,
   "id": "be2bd8d3",
   "metadata": {},
   "outputs": [],
   "source": [
    "import carla\n",
    "import time\n",
    "import random\n",
    "import cv2\n",
    "import numpy as np"
   ]
  },
  {
   "cell_type": "code",
   "execution_count": 3,
   "id": "e6fdfdd2",
   "metadata": {},
   "outputs": [],
   "source": [
    "# Connect to the CARLA server\n",
    "client = carla.Client('localhost', 2000)\n",
    "client.load_world('Town04')\n",
    "# Access the world\n",
    "world = client.get_world()"
   ]
  },
  {
   "cell_type": "code",
   "execution_count": 5,
   "id": "d0078e9b",
   "metadata": {},
   "outputs": [],
   "source": [
    "#geting places for spawning cars in world\n",
    "world=client.get_world()\n",
    "spawn_points=world.get_map().get_spawn_points()"
   ]
  },
  {
   "cell_type": "code",
   "execution_count": 6,
   "id": "c4c070d2",
   "metadata": {},
   "outputs": [
    {
     "name": "stdout",
     "output_type": "stream",
     "text": [
      "Transform(Location(x=413.002808, y=-122.528442, z=0.281942), Rotation(pitch=0.000000, yaw=-89.401421, roll=0.000000))\n"
     ]
    }
   ],
   "source": [
    "#getting blueprints of cars\n",
    "vehicle_bp=world.get_blueprint_library().filter('ford')\n",
    "#spawning a car\n",
    "st_pt=random.choice(spawn_points)\n",
    "print(st_pt)\n",
    "vehicle=world.try_spawn_actor(vehicle_bp[0],st_pt)\n",
    "#viewing our car\n",
    "spect=world.get_spectator()\n",
    "st_pt.location.z=st_pt.location.z+1\n",
    "spect.set_transform(st_pt)"
   ]
  },
  {
   "cell_type": "code",
   "execution_count": 19,
   "id": "22c6cd0e",
   "metadata": {},
   "outputs": [
    {
     "name": "stdout",
     "output_type": "stream",
     "text": [
      "Transform(Location(x=311.608490, y=-238.711853, z=0.281942), Rotation(pitch=0.000000, yaw=90.510933, roll=0.000000))\n"
     ]
    }
   ],
   "source": [
    "pt=random.choice(spawn_points)\n",
    "print(pt)"
   ]
  },
  {
   "cell_type": "code",
   "execution_count": 7,
   "id": "c2d4db85",
   "metadata": {},
   "outputs": [
    {
     "name": "stdout",
     "output_type": "stream",
     "text": [
      "Transform(Location(x=413.002808, y=-122.528435, z=-0.005015), Rotation(pitch=0.000000, yaw=-89.401421, roll=0.000000))\n"
     ]
    }
   ],
   "source": [
    "#car positioning\n",
    "vehicle_pos=vehicle.get_transform()\n",
    "print(vehicle_pos)"
   ]
  },
  {
   "cell_type": "code",
   "execution_count": 8,
   "id": "53b00cdb",
   "metadata": {},
   "outputs": [
    {
     "name": "stdout",
     "output_type": "stream",
     "text": [
      "[(<carla.libcarla.Waypoint object at 0x000002BF5F3198D0>, <carla.libcarla.Waypoint object at 0x000002BF5F319750>), (<carla.libcarla.Waypoint object at 0x000002BF5F319990>, <carla.libcarla.Waypoint object at 0x000002BF5F319810>), (<carla.libcarla.Waypoint object at 0x000002BF5F3199F0>, <carla.libcarla.Waypoint object at 0x000002BF5F319A50>), (<carla.libcarla.Waypoint object at 0x000002BF5F319AB0>, <carla.libcarla.Waypoint object at 0x000002BF5F319B10>), (<carla.libcarla.Waypoint object at 0x000002BF5F319B70>, <carla.libcarla.Waypoint object at 0x000002BF5F319BD0>), (<carla.libcarla.Waypoint object at 0x000002BF5F319C30>, <carla.libcarla.Waypoint object at 0x000002BF5F319C90>), (<carla.libcarla.Waypoint object at 0x000002BF5F319CF0>, <carla.libcarla.Waypoint object at 0x000002BF5F319D50>), (<carla.libcarla.Waypoint object at 0x000002BF5F319DB0>, <carla.libcarla.Waypoint object at 0x000002BF5F319E10>), (<carla.libcarla.Waypoint object at 0x000002BF5F319E70>, <carla.libcarla.Waypoint object at 0x000002BF5F319ED0>), (<carla.libcarla.Waypoint object at 0x000002BF5F319F30>, <carla.libcarla.Waypoint object at 0x000002BF5F319F90>), (<carla.libcarla.Waypoint object at 0x000002BF5F32F030>, <carla.libcarla.Waypoint object at 0x000002BF5F32F090>), (<carla.libcarla.Waypoint object at 0x000002BF5F32F0F0>, <carla.libcarla.Waypoint object at 0x000002BF5F32F150>), (<carla.libcarla.Waypoint object at 0x000002BF5F32F1B0>, <carla.libcarla.Waypoint object at 0x000002BF5F32F210>), (<carla.libcarla.Waypoint object at 0x000002BF5F32F270>, <carla.libcarla.Waypoint object at 0x000002BF5F32F2D0>), (<carla.libcarla.Waypoint object at 0x000002BF5F32F330>, <carla.libcarla.Waypoint object at 0x000002BF5F32F390>), (<carla.libcarla.Waypoint object at 0x000002BF5F32F3F0>, <carla.libcarla.Waypoint object at 0x000002BF5F32F450>), (<carla.libcarla.Waypoint object at 0x000002BF5F32F4B0>, <carla.libcarla.Waypoint object at 0x000002BF5F32F510>), (<carla.libcarla.Waypoint object at 0x000002BF5F32F570>, <carla.libcarla.Waypoint object at 0x000002BF5F32F5D0>), (<carla.libcarla.Waypoint object at 0x000002BF5F32F630>, <carla.libcarla.Waypoint object at 0x000002BF5F32F690>), (<carla.libcarla.Waypoint object at 0x000002BF5F32F6F0>, <carla.libcarla.Waypoint object at 0x000002BF5F32F750>), (<carla.libcarla.Waypoint object at 0x000002BF5F32F7B0>, <carla.libcarla.Waypoint object at 0x000002BF5F32F810>), (<carla.libcarla.Waypoint object at 0x000002BF5F32F870>, <carla.libcarla.Waypoint object at 0x000002BF5F32F8D0>), (<carla.libcarla.Waypoint object at 0x000002BF5F32F930>, <carla.libcarla.Waypoint object at 0x000002BF5F32F990>), (<carla.libcarla.Waypoint object at 0x000002BF5F32F9F0>, <carla.libcarla.Waypoint object at 0x000002BF5F32FA50>), (<carla.libcarla.Waypoint object at 0x000002BF5F32FAB0>, <carla.libcarla.Waypoint object at 0x000002BF5F32FB10>), (<carla.libcarla.Waypoint object at 0x000002BF5F32FB70>, <carla.libcarla.Waypoint object at 0x000002BF5F32FBD0>), (<carla.libcarla.Waypoint object at 0x000002BF5F32FC30>, <carla.libcarla.Waypoint object at 0x000002BF5F32FC90>), (<carla.libcarla.Waypoint object at 0x000002BF5F32FCF0>, <carla.libcarla.Waypoint object at 0x000002BF5F32FD50>), (<carla.libcarla.Waypoint object at 0x000002BF5F32FDB0>, <carla.libcarla.Waypoint object at 0x000002BF5F32FE10>), (<carla.libcarla.Waypoint object at 0x000002BF5F32FE70>, <carla.libcarla.Waypoint object at 0x000002BF5F32FED0>), (<carla.libcarla.Waypoint object at 0x000002BF5F32FF30>, <carla.libcarla.Waypoint object at 0x000002BF5F32FF90>), (<carla.libcarla.Waypoint object at 0x000002BF5F32E030>, <carla.libcarla.Waypoint object at 0x000002BF5F32E090>), (<carla.libcarla.Waypoint object at 0x000002BF5F32E0F0>, <carla.libcarla.Waypoint object at 0x000002BF5F32E150>), (<carla.libcarla.Waypoint object at 0x000002BF5F32E1B0>, <carla.libcarla.Waypoint object at 0x000002BF5F32E210>), (<carla.libcarla.Waypoint object at 0x000002BF5F32E270>, <carla.libcarla.Waypoint object at 0x000002BF5F32E2D0>), (<carla.libcarla.Waypoint object at 0x000002BF5F32E330>, <carla.libcarla.Waypoint object at 0x000002BF5F32E390>), (<carla.libcarla.Waypoint object at 0x000002BF5F32E3F0>, <carla.libcarla.Waypoint object at 0x000002BF5F32E450>), (<carla.libcarla.Waypoint object at 0x000002BF5F32E4B0>, <carla.libcarla.Waypoint object at 0x000002BF5F32E510>), (<carla.libcarla.Waypoint object at 0x000002BF5F32E570>, <carla.libcarla.Waypoint object at 0x000002BF5F32E5D0>), (<carla.libcarla.Waypoint object at 0x000002BF5F32E630>, <carla.libcarla.Waypoint object at 0x000002BF5F32E690>), (<carla.libcarla.Waypoint object at 0x000002BF5F32E6F0>, <carla.libcarla.Waypoint object at 0x000002BF5F32E750>), (<carla.libcarla.Waypoint object at 0x000002BF5F32E7B0>, <carla.libcarla.Waypoint object at 0x000002BF5F32E810>), (<carla.libcarla.Waypoint object at 0x000002BF5F32E870>, <carla.libcarla.Waypoint object at 0x000002BF5F32E8D0>), (<carla.libcarla.Waypoint object at 0x000002BF5F32E930>, <carla.libcarla.Waypoint object at 0x000002BF5F32E990>), (<carla.libcarla.Waypoint object at 0x000002BF5F32E9F0>, <carla.libcarla.Waypoint object at 0x000002BF5F32EA50>), (<carla.libcarla.Waypoint object at 0x000002BF5F32EAB0>, <carla.libcarla.Waypoint object at 0x000002BF5F32EB10>), (<carla.libcarla.Waypoint object at 0x000002BF5F32EB70>, <carla.libcarla.Waypoint object at 0x000002BF5F32EBD0>), (<carla.libcarla.Waypoint object at 0x000002BF5F32EC30>, <carla.libcarla.Waypoint object at 0x000002BF5F32EC90>), (<carla.libcarla.Waypoint object at 0x000002BF5F32ECF0>, <carla.libcarla.Waypoint object at 0x000002BF5F32ED50>), (<carla.libcarla.Waypoint object at 0x000002BF5F32EDB0>, <carla.libcarla.Waypoint object at 0x000002BF5F32EE10>), (<carla.libcarla.Waypoint object at 0x000002BF5F32EE70>, <carla.libcarla.Waypoint object at 0x000002BF5F32EED0>), (<carla.libcarla.Waypoint object at 0x000002BF5F32EF30>, <carla.libcarla.Waypoint object at 0x000002BF5F32EF90>), (<carla.libcarla.Waypoint object at 0x000002BF5F330030>, <carla.libcarla.Waypoint object at 0x000002BF5F330090>), (<carla.libcarla.Waypoint object at 0x000002BF5F3300F0>, <carla.libcarla.Waypoint object at 0x000002BF5F330150>), (<carla.libcarla.Waypoint object at 0x000002BF5F3301B0>, <carla.libcarla.Waypoint object at 0x000002BF5F330210>), (<carla.libcarla.Waypoint object at 0x000002BF5F330270>, <carla.libcarla.Waypoint object at 0x000002BF5F3302D0>), (<carla.libcarla.Waypoint object at 0x000002BF5F330330>, <carla.libcarla.Waypoint object at 0x000002BF5F330390>), (<carla.libcarla.Waypoint object at 0x000002BF5F3303F0>, <carla.libcarla.Waypoint object at 0x000002BF5F330450>), (<carla.libcarla.Waypoint object at 0x000002BF5F3304B0>, <carla.libcarla.Waypoint object at 0x000002BF5F330510>), (<carla.libcarla.Waypoint object at 0x000002BF5F330570>, <carla.libcarla.Waypoint object at 0x000002BF5F3305D0>), (<carla.libcarla.Waypoint object at 0x000002BF5F330630>, <carla.libcarla.Waypoint object at 0x000002BF5F330690>), (<carla.libcarla.Waypoint object at 0x000002BF5F3306F0>, <carla.libcarla.Waypoint object at 0x000002BF5F330750>), (<carla.libcarla.Waypoint object at 0x000002BF5F3307B0>, <carla.libcarla.Waypoint object at 0x000002BF5F330810>), (<carla.libcarla.Waypoint object at 0x000002BF5F330870>, <carla.libcarla.Waypoint object at 0x000002BF5F3308D0>), (<carla.libcarla.Waypoint object at 0x000002BF5F330930>, <carla.libcarla.Waypoint object at 0x000002BF5F330990>), (<carla.libcarla.Waypoint object at 0x000002BF5F3309F0>, <carla.libcarla.Waypoint object at 0x000002BF5F330A50>), (<carla.libcarla.Waypoint object at 0x000002BF5F330AB0>, <carla.libcarla.Waypoint object at 0x000002BF5F330B10>), (<carla.libcarla.Waypoint object at 0x000002BF5F330B70>, <carla.libcarla.Waypoint object at 0x000002BF5F330BD0>), (<carla.libcarla.Waypoint object at 0x000002BF5F330C30>, <carla.libcarla.Waypoint object at 0x000002BF5F330C90>), (<carla.libcarla.Waypoint object at 0x000002BF5F330CF0>, <carla.libcarla.Waypoint object at 0x000002BF5F330D50>), (<carla.libcarla.Waypoint object at 0x000002BF5F330DB0>, <carla.libcarla.Waypoint object at 0x000002BF5F330E10>), (<carla.libcarla.Waypoint object at 0x000002BF5F330E70>, <carla.libcarla.Waypoint object at 0x000002BF5F330ED0>), (<carla.libcarla.Waypoint object at 0x000002BF5F330F30>, <carla.libcarla.Waypoint object at 0x000002BF5F330F90>), (<carla.libcarla.Waypoint object at 0x000002BF5F331030>, <carla.libcarla.Waypoint object at 0x000002BF5F331090>), (<carla.libcarla.Waypoint object at 0x000002BF5F3310F0>, <carla.libcarla.Waypoint object at 0x000002BF5F331150>), (<carla.libcarla.Waypoint object at 0x000002BF5F3311B0>, <carla.libcarla.Waypoint object at 0x000002BF5F331210>), (<carla.libcarla.Waypoint object at 0x000002BF5F331270>, <carla.libcarla.Waypoint object at 0x000002BF5F3312D0>), (<carla.libcarla.Waypoint object at 0x000002BF5F331330>, <carla.libcarla.Waypoint object at 0x000002BF5F331390>), (<carla.libcarla.Waypoint object at 0x000002BF5F3313F0>, <carla.libcarla.Waypoint object at 0x000002BF5F331450>), (<carla.libcarla.Waypoint object at 0x000002BF5F3314B0>, <carla.libcarla.Waypoint object at 0x000002BF5F331510>), (<carla.libcarla.Waypoint object at 0x000002BF5F331570>, <carla.libcarla.Waypoint object at 0x000002BF5F3315D0>), (<carla.libcarla.Waypoint object at 0x000002BF5F331630>, <carla.libcarla.Waypoint object at 0x000002BF5F331690>), (<carla.libcarla.Waypoint object at 0x000002BF5F3316F0>, <carla.libcarla.Waypoint object at 0x000002BF5F331750>), (<carla.libcarla.Waypoint object at 0x000002BF5F3317B0>, <carla.libcarla.Waypoint object at 0x000002BF5F331810>), (<carla.libcarla.Waypoint object at 0x000002BF5F331870>, <carla.libcarla.Waypoint object at 0x000002BF5F3318D0>), (<carla.libcarla.Waypoint object at 0x000002BF5F331930>, <carla.libcarla.Waypoint object at 0x000002BF5F331990>), (<carla.libcarla.Waypoint object at 0x000002BF5F3319F0>, <carla.libcarla.Waypoint object at 0x000002BF5F331A50>), (<carla.libcarla.Waypoint object at 0x000002BF5F331AB0>, <carla.libcarla.Waypoint object at 0x000002BF5F331B10>), (<carla.libcarla.Waypoint object at 0x000002BF5F331B70>, <carla.libcarla.Waypoint object at 0x000002BF5F331BD0>), (<carla.libcarla.Waypoint object at 0x000002BF5F331C30>, <carla.libcarla.Waypoint object at 0x000002BF5F331C90>), (<carla.libcarla.Waypoint object at 0x000002BF5F331CF0>, <carla.libcarla.Waypoint object at 0x000002BF5F331D50>), (<carla.libcarla.Waypoint object at 0x000002BF5F331DB0>, <carla.libcarla.Waypoint object at 0x000002BF5F331E10>), (<carla.libcarla.Waypoint object at 0x000002BF5F331E70>, <carla.libcarla.Waypoint object at 0x000002BF5F331ED0>), (<carla.libcarla.Waypoint object at 0x000002BF5F331F30>, <carla.libcarla.Waypoint object at 0x000002BF5F331F90>), (<carla.libcarla.Waypoint object at 0x000002BF5F332030>, <carla.libcarla.Waypoint object at 0x000002BF5F332090>), (<carla.libcarla.Waypoint object at 0x000002BF5F3320F0>, <carla.libcarla.Waypoint object at 0x000002BF5F332150>), (<carla.libcarla.Waypoint object at 0x000002BF5F3321B0>, <carla.libcarla.Waypoint object at 0x000002BF5F332210>), (<carla.libcarla.Waypoint object at 0x000002BF5F332270>, <carla.libcarla.Waypoint object at 0x000002BF5F3322D0>), (<carla.libcarla.Waypoint object at 0x000002BF5F332330>, <carla.libcarla.Waypoint object at 0x000002BF5F332390>), (<carla.libcarla.Waypoint object at 0x000002BF5F3323F0>, <carla.libcarla.Waypoint object at 0x000002BF5F332450>), (<carla.libcarla.Waypoint object at 0x000002BF5F3324B0>, <carla.libcarla.Waypoint object at 0x000002BF5F332510>), (<carla.libcarla.Waypoint object at 0x000002BF5F332570>, <carla.libcarla.Waypoint object at 0x000002BF5F3325D0>), (<carla.libcarla.Waypoint object at 0x000002BF5F332630>, <carla.libcarla.Waypoint object at 0x000002BF5F332690>), (<carla.libcarla.Waypoint object at 0x000002BF5F3326F0>, <carla.libcarla.Waypoint object at 0x000002BF5F332750>), (<carla.libcarla.Waypoint object at 0x000002BF5F3327B0>, <carla.libcarla.Waypoint object at 0x000002BF5F332810>), (<carla.libcarla.Waypoint object at 0x000002BF5F332870>, <carla.libcarla.Waypoint object at 0x000002BF5F3328D0>), (<carla.libcarla.Waypoint object at 0x000002BF5F332930>, <carla.libcarla.Waypoint object at 0x000002BF5F332990>), (<carla.libcarla.Waypoint object at 0x000002BF5F3329F0>, <carla.libcarla.Waypoint object at 0x000002BF5F332A50>), (<carla.libcarla.Waypoint object at 0x000002BF5F332AB0>, <carla.libcarla.Waypoint object at 0x000002BF5F332B10>), (<carla.libcarla.Waypoint object at 0x000002BF5F332B70>, <carla.libcarla.Waypoint object at 0x000002BF5F332BD0>), (<carla.libcarla.Waypoint object at 0x000002BF5F332C30>, <carla.libcarla.Waypoint object at 0x000002BF5F332C90>), (<carla.libcarla.Waypoint object at 0x000002BF5F332CF0>, <carla.libcarla.Waypoint object at 0x000002BF5F332D50>), (<carla.libcarla.Waypoint object at 0x000002BF5F332DB0>, <carla.libcarla.Waypoint object at 0x000002BF5F332E10>), (<carla.libcarla.Waypoint object at 0x000002BF5F332E70>, <carla.libcarla.Waypoint object at 0x000002BF5F332ED0>), (<carla.libcarla.Waypoint object at 0x000002BF5F332F30>, <carla.libcarla.Waypoint object at 0x000002BF5F332F90>), (<carla.libcarla.Waypoint object at 0x000002BF5F333030>, <carla.libcarla.Waypoint object at 0x000002BF5F333090>), (<carla.libcarla.Waypoint object at 0x000002BF5F3330F0>, <carla.libcarla.Waypoint object at 0x000002BF5F333150>), (<carla.libcarla.Waypoint object at 0x000002BF5F3331B0>, <carla.libcarla.Waypoint object at 0x000002BF5F333210>), (<carla.libcarla.Waypoint object at 0x000002BF5F333270>, <carla.libcarla.Waypoint object at 0x000002BF5F3332D0>), (<carla.libcarla.Waypoint object at 0x000002BF5F333330>, <carla.libcarla.Waypoint object at 0x000002BF5F333390>), (<carla.libcarla.Waypoint object at 0x000002BF5F3333F0>, <carla.libcarla.Waypoint object at 0x000002BF5F333450>), (<carla.libcarla.Waypoint object at 0x000002BF5F3334B0>, <carla.libcarla.Waypoint object at 0x000002BF5F333510>), (<carla.libcarla.Waypoint object at 0x000002BF5F333570>, <carla.libcarla.Waypoint object at 0x000002BF5F3335D0>), (<carla.libcarla.Waypoint object at 0x000002BF5F333630>, <carla.libcarla.Waypoint object at 0x000002BF5F333690>), (<carla.libcarla.Waypoint object at 0x000002BF5F3336F0>, <carla.libcarla.Waypoint object at 0x000002BF5F333750>), (<carla.libcarla.Waypoint object at 0x000002BF5F3337B0>, <carla.libcarla.Waypoint object at 0x000002BF5F333810>), (<carla.libcarla.Waypoint object at 0x000002BF5F333870>, <carla.libcarla.Waypoint object at 0x000002BF5F3338D0>), (<carla.libcarla.Waypoint object at 0x000002BF5F333930>, <carla.libcarla.Waypoint object at 0x000002BF5F333990>), (<carla.libcarla.Waypoint object at 0x000002BF5F3339F0>, <carla.libcarla.Waypoint object at 0x000002BF5F333A50>), (<carla.libcarla.Waypoint object at 0x000002BF5F333AB0>, <carla.libcarla.Waypoint object at 0x000002BF5F333B10>), (<carla.libcarla.Waypoint object at 0x000002BF5F333B70>, <carla.libcarla.Waypoint object at 0x000002BF5F333BD0>), (<carla.libcarla.Waypoint object at 0x000002BF5F333C30>, <carla.libcarla.Waypoint object at 0x000002BF5F333C90>), (<carla.libcarla.Waypoint object at 0x000002BF5F333CF0>, <carla.libcarla.Waypoint object at 0x000002BF5F333D50>), (<carla.libcarla.Waypoint object at 0x000002BF5F333DB0>, <carla.libcarla.Waypoint object at 0x000002BF5F333E10>), (<carla.libcarla.Waypoint object at 0x000002BF5F333E70>, <carla.libcarla.Waypoint object at 0x000002BF5F333ED0>), (<carla.libcarla.Waypoint object at 0x000002BF5F333F30>, <carla.libcarla.Waypoint object at 0x000002BF5F333F90>), (<carla.libcarla.Waypoint object at 0x000002BF5F334030>, <carla.libcarla.Waypoint object at 0x000002BF5F334090>), (<carla.libcarla.Waypoint object at 0x000002BF5F3340F0>, <carla.libcarla.Waypoint object at 0x000002BF5F334150>), (<carla.libcarla.Waypoint object at 0x000002BF5F3341B0>, <carla.libcarla.Waypoint object at 0x000002BF5F334210>), (<carla.libcarla.Waypoint object at 0x000002BF5F334270>, <carla.libcarla.Waypoint object at 0x000002BF5F3342D0>), (<carla.libcarla.Waypoint object at 0x000002BF5F334330>, <carla.libcarla.Waypoint object at 0x000002BF5F334390>), (<carla.libcarla.Waypoint object at 0x000002BF5F3343F0>, <carla.libcarla.Waypoint object at 0x000002BF5F334450>), (<carla.libcarla.Waypoint object at 0x000002BF5F3344B0>, <carla.libcarla.Waypoint object at 0x000002BF5F334510>), (<carla.libcarla.Waypoint object at 0x000002BF5F334570>, <carla.libcarla.Waypoint object at 0x000002BF5F3345D0>), (<carla.libcarla.Waypoint object at 0x000002BF5F334630>, <carla.libcarla.Waypoint object at 0x000002BF5F334690>), (<carla.libcarla.Waypoint object at 0x000002BF5F3346F0>, <carla.libcarla.Waypoint object at 0x000002BF5F334750>), (<carla.libcarla.Waypoint object at 0x000002BF5F3347B0>, <carla.libcarla.Waypoint object at 0x000002BF5F334810>), (<carla.libcarla.Waypoint object at 0x000002BF5F334870>, <carla.libcarla.Waypoint object at 0x000002BF5F3348D0>), (<carla.libcarla.Waypoint object at 0x000002BF5F334930>, <carla.libcarla.Waypoint object at 0x000002BF5F334990>), (<carla.libcarla.Waypoint object at 0x000002BF5F3349F0>, <carla.libcarla.Waypoint object at 0x000002BF5F334A50>), (<carla.libcarla.Waypoint object at 0x000002BF5F334AB0>, <carla.libcarla.Waypoint object at 0x000002BF5F334B10>), (<carla.libcarla.Waypoint object at 0x000002BF5F334B70>, <carla.libcarla.Waypoint object at 0x000002BF5F334BD0>), (<carla.libcarla.Waypoint object at 0x000002BF5F334C30>, <carla.libcarla.Waypoint object at 0x000002BF5F334C90>), (<carla.libcarla.Waypoint object at 0x000002BF5F334CF0>, <carla.libcarla.Waypoint object at 0x000002BF5F334D50>), (<carla.libcarla.Waypoint object at 0x000002BF5F334DB0>, <carla.libcarla.Waypoint object at 0x000002BF5F334E10>), (<carla.libcarla.Waypoint object at 0x000002BF5F334E70>, <carla.libcarla.Waypoint object at 0x000002BF5F334ED0>), (<carla.libcarla.Waypoint object at 0x000002BF5F334F30>, <carla.libcarla.Waypoint object at 0x000002BF5F334F90>), (<carla.libcarla.Waypoint object at 0x000002BF5F335030>, <carla.libcarla.Waypoint object at 0x000002BF5F335090>), (<carla.libcarla.Waypoint object at 0x000002BF5F3350F0>, <carla.libcarla.Waypoint object at 0x000002BF5F335150>), (<carla.libcarla.Waypoint object at 0x000002BF5F3351B0>, <carla.libcarla.Waypoint object at 0x000002BF5F335210>), (<carla.libcarla.Waypoint object at 0x000002BF5F335270>, <carla.libcarla.Waypoint object at 0x000002BF5F3352D0>), (<carla.libcarla.Waypoint object at 0x000002BF5F335330>, <carla.libcarla.Waypoint object at 0x000002BF5F335390>), (<carla.libcarla.Waypoint object at 0x000002BF5F3353F0>, <carla.libcarla.Waypoint object at 0x000002BF5F335450>), (<carla.libcarla.Waypoint object at 0x000002BF5F3354B0>, <carla.libcarla.Waypoint object at 0x000002BF5F335510>), (<carla.libcarla.Waypoint object at 0x000002BF5F335570>, <carla.libcarla.Waypoint object at 0x000002BF5F3355D0>), (<carla.libcarla.Waypoint object at 0x000002BF5F335630>, <carla.libcarla.Waypoint object at 0x000002BF5F335690>), (<carla.libcarla.Waypoint object at 0x000002BF5F3356F0>, <carla.libcarla.Waypoint object at 0x000002BF5F335750>), (<carla.libcarla.Waypoint object at 0x000002BF5F3357B0>, <carla.libcarla.Waypoint object at 0x000002BF5F335810>), (<carla.libcarla.Waypoint object at 0x000002BF5F335870>, <carla.libcarla.Waypoint object at 0x000002BF5F3358D0>), (<carla.libcarla.Waypoint object at 0x000002BF5F335930>, <carla.libcarla.Waypoint object at 0x000002BF5F335990>), (<carla.libcarla.Waypoint object at 0x000002BF5F3359F0>, <carla.libcarla.Waypoint object at 0x000002BF5F335A50>), (<carla.libcarla.Waypoint object at 0x000002BF5F335AB0>, <carla.libcarla.Waypoint object at 0x000002BF5F335B10>), (<carla.libcarla.Waypoint object at 0x000002BF5F335B70>, <carla.libcarla.Waypoint object at 0x000002BF5F335BD0>), (<carla.libcarla.Waypoint object at 0x000002BF5F335C30>, <carla.libcarla.Waypoint object at 0x000002BF5F335C90>), (<carla.libcarla.Waypoint object at 0x000002BF5F335CF0>, <carla.libcarla.Waypoint object at 0x000002BF5F335D50>), (<carla.libcarla.Waypoint object at 0x000002BF5F335DB0>, <carla.libcarla.Waypoint object at 0x000002BF5F335E10>), (<carla.libcarla.Waypoint object at 0x000002BF5F335E70>, <carla.libcarla.Waypoint object at 0x000002BF5F335ED0>), (<carla.libcarla.Waypoint object at 0x000002BF5F335F30>, <carla.libcarla.Waypoint object at 0x000002BF5F335F90>), (<carla.libcarla.Waypoint object at 0x000002BF5F337030>, <carla.libcarla.Waypoint object at 0x000002BF5F337090>), (<carla.libcarla.Waypoint object at 0x000002BF5F3370F0>, <carla.libcarla.Waypoint object at 0x000002BF5F337150>), (<carla.libcarla.Waypoint object at 0x000002BF5F3371B0>, <carla.libcarla.Waypoint object at 0x000002BF5F337210>), (<carla.libcarla.Waypoint object at 0x000002BF5F337270>, <carla.libcarla.Waypoint object at 0x000002BF5F3372D0>), (<carla.libcarla.Waypoint object at 0x000002BF5F337330>, <carla.libcarla.Waypoint object at 0x000002BF5F337390>), (<carla.libcarla.Waypoint object at 0x000002BF5F3373F0>, <carla.libcarla.Waypoint object at 0x000002BF5F337450>), (<carla.libcarla.Waypoint object at 0x000002BF5F3374B0>, <carla.libcarla.Waypoint object at 0x000002BF5F337510>), (<carla.libcarla.Waypoint object at 0x000002BF5F337570>, <carla.libcarla.Waypoint object at 0x000002BF5F3375D0>), (<carla.libcarla.Waypoint object at 0x000002BF5F337630>, <carla.libcarla.Waypoint object at 0x000002BF5F337690>), (<carla.libcarla.Waypoint object at 0x000002BF5F3376F0>, <carla.libcarla.Waypoint object at 0x000002BF5F337750>), (<carla.libcarla.Waypoint object at 0x000002BF5F3377B0>, <carla.libcarla.Waypoint object at 0x000002BF5F337810>), (<carla.libcarla.Waypoint object at 0x000002BF5F337870>, <carla.libcarla.Waypoint object at 0x000002BF5F3378D0>), (<carla.libcarla.Waypoint object at 0x000002BF5F337930>, <carla.libcarla.Waypoint object at 0x000002BF5F337990>), (<carla.libcarla.Waypoint object at 0x000002BF5F3379F0>, <carla.libcarla.Waypoint object at 0x000002BF5F337A50>), (<carla.libcarla.Waypoint object at 0x000002BF5F337AB0>, <carla.libcarla.Waypoint object at 0x000002BF5F337B10>), (<carla.libcarla.Waypoint object at 0x000002BF5F337B70>, <carla.libcarla.Waypoint object at 0x000002BF5F337BD0>), (<carla.libcarla.Waypoint object at 0x000002BF5F337C30>, <carla.libcarla.Waypoint object at 0x000002BF5F337C90>), (<carla.libcarla.Waypoint object at 0x000002BF5F337CF0>, <carla.libcarla.Waypoint object at 0x000002BF5F337D50>), (<carla.libcarla.Waypoint object at 0x000002BF5F337DB0>, <carla.libcarla.Waypoint object at 0x000002BF5F337E10>), (<carla.libcarla.Waypoint object at 0x000002BF5F337E70>, <carla.libcarla.Waypoint object at 0x000002BF5F337ED0>), (<carla.libcarla.Waypoint object at 0x000002BF5F337F30>, <carla.libcarla.Waypoint object at 0x000002BF5F337F90>), (<carla.libcarla.Waypoint object at 0x000002BF5F338030>, <carla.libcarla.Waypoint object at 0x000002BF5F338090>), (<carla.libcarla.Waypoint object at 0x000002BF5F3380F0>, <carla.libcarla.Waypoint object at 0x000002BF5F338150>), (<carla.libcarla.Waypoint object at 0x000002BF5F3381B0>, <carla.libcarla.Waypoint object at 0x000002BF5F338210>), (<carla.libcarla.Waypoint object at 0x000002BF5F338270>, <carla.libcarla.Waypoint object at 0x000002BF5F3382D0>), (<carla.libcarla.Waypoint object at 0x000002BF5F338330>, <carla.libcarla.Waypoint object at 0x000002BF5F338390>), (<carla.libcarla.Waypoint object at 0x000002BF5F3383F0>, <carla.libcarla.Waypoint object at 0x000002BF5F338450>), (<carla.libcarla.Waypoint object at 0x000002BF5F3384B0>, <carla.libcarla.Waypoint object at 0x000002BF5F338510>), (<carla.libcarla.Waypoint object at 0x000002BF5F338570>, <carla.libcarla.Waypoint object at 0x000002BF5F3385D0>), (<carla.libcarla.Waypoint object at 0x000002BF5F338630>, <carla.libcarla.Waypoint object at 0x000002BF5F338690>), (<carla.libcarla.Waypoint object at 0x000002BF5F3386F0>, <carla.libcarla.Waypoint object at 0x000002BF5F338750>), (<carla.libcarla.Waypoint object at 0x000002BF5F3387B0>, <carla.libcarla.Waypoint object at 0x000002BF5F338810>), (<carla.libcarla.Waypoint object at 0x000002BF5F338870>, <carla.libcarla.Waypoint object at 0x000002BF5F3388D0>), (<carla.libcarla.Waypoint object at 0x000002BF5F338930>, <carla.libcarla.Waypoint object at 0x000002BF5F338990>), (<carla.libcarla.Waypoint object at 0x000002BF5F3389F0>, <carla.libcarla.Waypoint object at 0x000002BF5F338A50>), (<carla.libcarla.Waypoint object at 0x000002BF5F338AB0>, <carla.libcarla.Waypoint object at 0x000002BF5F338B10>), (<carla.libcarla.Waypoint object at 0x000002BF5F338B70>, <carla.libcarla.Waypoint object at 0x000002BF5F338BD0>), (<carla.libcarla.Waypoint object at 0x000002BF5F338C30>, <carla.libcarla.Waypoint object at 0x000002BF5F338C90>), (<carla.libcarla.Waypoint object at 0x000002BF5F338CF0>, <carla.libcarla.Waypoint object at 0x000002BF5F338D50>), (<carla.libcarla.Waypoint object at 0x000002BF5F338DB0>, <carla.libcarla.Waypoint object at 0x000002BF5F338E10>), (<carla.libcarla.Waypoint object at 0x000002BF5F338E70>, <carla.libcarla.Waypoint object at 0x000002BF5F338ED0>), (<carla.libcarla.Waypoint object at 0x000002BF5F338F30>, <carla.libcarla.Waypoint object at 0x000002BF5F338F90>), (<carla.libcarla.Waypoint object at 0x000002BF5F339030>, <carla.libcarla.Waypoint object at 0x000002BF5F339090>), (<carla.libcarla.Waypoint object at 0x000002BF5F3390F0>, <carla.libcarla.Waypoint object at 0x000002BF5F339150>), (<carla.libcarla.Waypoint object at 0x000002BF5F3391B0>, <carla.libcarla.Waypoint object at 0x000002BF5F339210>), (<carla.libcarla.Waypoint object at 0x000002BF5F339270>, <carla.libcarla.Waypoint object at 0x000002BF5F3392D0>), (<carla.libcarla.Waypoint object at 0x000002BF5F339330>, <carla.libcarla.Waypoint object at 0x000002BF5F339390>), (<carla.libcarla.Waypoint object at 0x000002BF5F3393F0>, <carla.libcarla.Waypoint object at 0x000002BF5F339450>), (<carla.libcarla.Waypoint object at 0x000002BF5F3394B0>, <carla.libcarla.Waypoint object at 0x000002BF5F339510>), (<carla.libcarla.Waypoint object at 0x000002BF5F339570>, <carla.libcarla.Waypoint object at 0x000002BF5F3395D0>), (<carla.libcarla.Waypoint object at 0x000002BF5F339630>, <carla.libcarla.Waypoint object at 0x000002BF5F339690>), (<carla.libcarla.Waypoint object at 0x000002BF5F3396F0>, <carla.libcarla.Waypoint object at 0x000002BF5F339750>), (<carla.libcarla.Waypoint object at 0x000002BF5F3397B0>, <carla.libcarla.Waypoint object at 0x000002BF5F339810>), (<carla.libcarla.Waypoint object at 0x000002BF5F339870>, <carla.libcarla.Waypoint object at 0x000002BF5F3398D0>), (<carla.libcarla.Waypoint object at 0x000002BF5F339930>, <carla.libcarla.Waypoint object at 0x000002BF5F339990>), (<carla.libcarla.Waypoint object at 0x000002BF5F3399F0>, <carla.libcarla.Waypoint object at 0x000002BF5F339A50>), (<carla.libcarla.Waypoint object at 0x000002BF5F339AB0>, <carla.libcarla.Waypoint object at 0x000002BF5F339B10>), (<carla.libcarla.Waypoint object at 0x000002BF5F339B70>, <carla.libcarla.Waypoint object at 0x000002BF5F339BD0>), (<carla.libcarla.Waypoint object at 0x000002BF5F339C30>, <carla.libcarla.Waypoint object at 0x000002BF5F339C90>), (<carla.libcarla.Waypoint object at 0x000002BF5F339CF0>, <carla.libcarla.Waypoint object at 0x000002BF5F339D50>), (<carla.libcarla.Waypoint object at 0x000002BF5F339DB0>, <carla.libcarla.Waypoint object at 0x000002BF5F339E10>), (<carla.libcarla.Waypoint object at 0x000002BF5F339E70>, <carla.libcarla.Waypoint object at 0x000002BF5F339ED0>), (<carla.libcarla.Waypoint object at 0x000002BF5F339F30>, <carla.libcarla.Waypoint object at 0x000002BF5F339F90>), (<carla.libcarla.Waypoint object at 0x000002BF5F33B030>, <carla.libcarla.Waypoint object at 0x000002BF5F33B090>), (<carla.libcarla.Waypoint object at 0x000002BF5F33B0F0>, <carla.libcarla.Waypoint object at 0x000002BF5F33B150>), (<carla.libcarla.Waypoint object at 0x000002BF5F33B1B0>, <carla.libcarla.Waypoint object at 0x000002BF5F33B210>), (<carla.libcarla.Waypoint object at 0x000002BF5F33B270>, <carla.libcarla.Waypoint object at 0x000002BF5F33B2D0>), (<carla.libcarla.Waypoint object at 0x000002BF5F33B330>, <carla.libcarla.Waypoint object at 0x000002BF5F33B390>), (<carla.libcarla.Waypoint object at 0x000002BF5F33B3F0>, <carla.libcarla.Waypoint object at 0x000002BF5F33B450>), (<carla.libcarla.Waypoint object at 0x000002BF5F33B4B0>, <carla.libcarla.Waypoint object at 0x000002BF5F33B510>), (<carla.libcarla.Waypoint object at 0x000002BF5F33B570>, <carla.libcarla.Waypoint object at 0x000002BF5F33B5D0>), (<carla.libcarla.Waypoint object at 0x000002BF5F33B630>, <carla.libcarla.Waypoint object at 0x000002BF5F33B690>), (<carla.libcarla.Waypoint object at 0x000002BF5F33B6F0>, <carla.libcarla.Waypoint object at 0x000002BF5F33B750>), (<carla.libcarla.Waypoint object at 0x000002BF5F33B7B0>, <carla.libcarla.Waypoint object at 0x000002BF5F33B810>), (<carla.libcarla.Waypoint object at 0x000002BF5F33B870>, <carla.libcarla.Waypoint object at 0x000002BF5F33B8D0>), (<carla.libcarla.Waypoint object at 0x000002BF5F33B930>, <carla.libcarla.Waypoint object at 0x000002BF5F33B990>), (<carla.libcarla.Waypoint object at 0x000002BF5F33B9F0>, <carla.libcarla.Waypoint object at 0x000002BF5F33BA50>), (<carla.libcarla.Waypoint object at 0x000002BF5F33BAB0>, <carla.libcarla.Waypoint object at 0x000002BF5F33BB10>), (<carla.libcarla.Waypoint object at 0x000002BF5F33BB70>, <carla.libcarla.Waypoint object at 0x000002BF5F33BBD0>), (<carla.libcarla.Waypoint object at 0x000002BF5F33BC30>, <carla.libcarla.Waypoint object at 0x000002BF5F33BC90>), (<carla.libcarla.Waypoint object at 0x000002BF5F33BCF0>, <carla.libcarla.Waypoint object at 0x000002BF5F33BD50>), (<carla.libcarla.Waypoint object at 0x000002BF5F33BDB0>, <carla.libcarla.Waypoint object at 0x000002BF5F33BE10>), (<carla.libcarla.Waypoint object at 0x000002BF5F33BE70>, <carla.libcarla.Waypoint object at 0x000002BF5F33BED0>), (<carla.libcarla.Waypoint object at 0x000002BF5F33BF30>, <carla.libcarla.Waypoint object at 0x000002BF5F33BF90>), (<carla.libcarla.Waypoint object at 0x000002BF5F33C030>, <carla.libcarla.Waypoint object at 0x000002BF5F33C090>), (<carla.libcarla.Waypoint object at 0x000002BF5F33C0F0>, <carla.libcarla.Waypoint object at 0x000002BF5F33C150>), (<carla.libcarla.Waypoint object at 0x000002BF5F33C1B0>, <carla.libcarla.Waypoint object at 0x000002BF5F33C210>), (<carla.libcarla.Waypoint object at 0x000002BF5F33C270>, <carla.libcarla.Waypoint object at 0x000002BF5F33C2D0>), (<carla.libcarla.Waypoint object at 0x000002BF5F33C330>, <carla.libcarla.Waypoint object at 0x000002BF5F33C390>), (<carla.libcarla.Waypoint object at 0x000002BF5F33C3F0>, <carla.libcarla.Waypoint object at 0x000002BF5F33C450>), (<carla.libcarla.Waypoint object at 0x000002BF5F33C4B0>, <carla.libcarla.Waypoint object at 0x000002BF5F33C510>), (<carla.libcarla.Waypoint object at 0x000002BF5F33C570>, <carla.libcarla.Waypoint object at 0x000002BF5F33C5D0>), (<carla.libcarla.Waypoint object at 0x000002BF5F33C630>, <carla.libcarla.Waypoint object at 0x000002BF5F33C690>), (<carla.libcarla.Waypoint object at 0x000002BF5F33C6F0>, <carla.libcarla.Waypoint object at 0x000002BF5F33C750>), (<carla.libcarla.Waypoint object at 0x000002BF5F33C7B0>, <carla.libcarla.Waypoint object at 0x000002BF5F33C810>), (<carla.libcarla.Waypoint object at 0x000002BF5F33C870>, <carla.libcarla.Waypoint object at 0x000002BF5F33C8D0>), (<carla.libcarla.Waypoint object at 0x000002BF5F33C930>, <carla.libcarla.Waypoint object at 0x000002BF5F33C990>), (<carla.libcarla.Waypoint object at 0x000002BF5F33C9F0>, <carla.libcarla.Waypoint object at 0x000002BF5F33CA50>), (<carla.libcarla.Waypoint object at 0x000002BF5F33CAB0>, <carla.libcarla.Waypoint object at 0x000002BF5F33CB10>), (<carla.libcarla.Waypoint object at 0x000002BF5F33CB70>, <carla.libcarla.Waypoint object at 0x000002BF5F33CBD0>), (<carla.libcarla.Waypoint object at 0x000002BF5F33CC30>, <carla.libcarla.Waypoint object at 0x000002BF5F33CC90>), (<carla.libcarla.Waypoint object at 0x000002BF5F33CCF0>, <carla.libcarla.Waypoint object at 0x000002BF5F33CD50>), (<carla.libcarla.Waypoint object at 0x000002BF5F33CDB0>, <carla.libcarla.Waypoint object at 0x000002BF5F33CE10>), (<carla.libcarla.Waypoint object at 0x000002BF5F33CE70>, <carla.libcarla.Waypoint object at 0x000002BF5F33CED0>), (<carla.libcarla.Waypoint object at 0x000002BF5F33CF30>, <carla.libcarla.Waypoint object at 0x000002BF5F33CF90>), (<carla.libcarla.Waypoint object at 0x000002BF5F33D030>, <carla.libcarla.Waypoint object at 0x000002BF5F33D090>), (<carla.libcarla.Waypoint object at 0x000002BF5F33D0F0>, <carla.libcarla.Waypoint object at 0x000002BF5F33D150>), (<carla.libcarla.Waypoint object at 0x000002BF5F33D1B0>, <carla.libcarla.Waypoint object at 0x000002BF5F33D210>), (<carla.libcarla.Waypoint object at 0x000002BF5F33D270>, <carla.libcarla.Waypoint object at 0x000002BF5F33D2D0>), (<carla.libcarla.Waypoint object at 0x000002BF5F33D330>, <carla.libcarla.Waypoint object at 0x000002BF5F33D390>), (<carla.libcarla.Waypoint object at 0x000002BF5F33D3F0>, <carla.libcarla.Waypoint object at 0x000002BF5F33D450>), (<carla.libcarla.Waypoint object at 0x000002BF5F33D4B0>, <carla.libcarla.Waypoint object at 0x000002BF5F33D510>), (<carla.libcarla.Waypoint object at 0x000002BF5F33D570>, <carla.libcarla.Waypoint object at 0x000002BF5F33D5D0>), (<carla.libcarla.Waypoint object at 0x000002BF5F33D630>, <carla.libcarla.Waypoint object at 0x000002BF5F33D690>), (<carla.libcarla.Waypoint object at 0x000002BF5F33D6F0>, <carla.libcarla.Waypoint object at 0x000002BF5F33D750>), (<carla.libcarla.Waypoint object at 0x000002BF5F33D7B0>, <carla.libcarla.Waypoint object at 0x000002BF5F33D810>), (<carla.libcarla.Waypoint object at 0x000002BF5F33D870>, <carla.libcarla.Waypoint object at 0x000002BF5F33D8D0>), (<carla.libcarla.Waypoint object at 0x000002BF5F33D930>, <carla.libcarla.Waypoint object at 0x000002BF5F33D990>), (<carla.libcarla.Waypoint object at 0x000002BF5F33D9F0>, <carla.libcarla.Waypoint object at 0x000002BF5F33DA50>), (<carla.libcarla.Waypoint object at 0x000002BF5F33DAB0>, <carla.libcarla.Waypoint object at 0x000002BF5F33DB10>), (<carla.libcarla.Waypoint object at 0x000002BF5F33DB70>, <carla.libcarla.Waypoint object at 0x000002BF5F33DBD0>), (<carla.libcarla.Waypoint object at 0x000002BF5F33DC30>, <carla.libcarla.Waypoint object at 0x000002BF5F33DC90>), (<carla.libcarla.Waypoint object at 0x000002BF5F33DCF0>, <carla.libcarla.Waypoint object at 0x000002BF5F33DD50>), (<carla.libcarla.Waypoint object at 0x000002BF5F33DDB0>, <carla.libcarla.Waypoint object at 0x000002BF5F33DE10>), (<carla.libcarla.Waypoint object at 0x000002BF5F33DE70>, <carla.libcarla.Waypoint object at 0x000002BF5F33DED0>), (<carla.libcarla.Waypoint object at 0x000002BF5F33DF30>, <carla.libcarla.Waypoint object at 0x000002BF5F33DF90>), (<carla.libcarla.Waypoint object at 0x000002BF5F33F030>, <carla.libcarla.Waypoint object at 0x000002BF5F33F090>), (<carla.libcarla.Waypoint object at 0x000002BF5F33F0F0>, <carla.libcarla.Waypoint object at 0x000002BF5F33F150>), (<carla.libcarla.Waypoint object at 0x000002BF5F33F1B0>, <carla.libcarla.Waypoint object at 0x000002BF5F33F210>), (<carla.libcarla.Waypoint object at 0x000002BF5F33F270>, <carla.libcarla.Waypoint object at 0x000002BF5F33F2D0>), (<carla.libcarla.Waypoint object at 0x000002BF5F33F330>, <carla.libcarla.Waypoint object at 0x000002BF5F33F390>), (<carla.libcarla.Waypoint object at 0x000002BF5F33F3F0>, <carla.libcarla.Waypoint object at 0x000002BF5F33F450>), (<carla.libcarla.Waypoint object at 0x000002BF5F33F4B0>, <carla.libcarla.Waypoint object at 0x000002BF5F33F510>), (<carla.libcarla.Waypoint object at 0x000002BF5F33F570>, <carla.libcarla.Waypoint object at 0x000002BF5F33F5D0>), (<carla.libcarla.Waypoint object at 0x000002BF5F33F630>, <carla.libcarla.Waypoint object at 0x000002BF5F33F690>), (<carla.libcarla.Waypoint object at 0x000002BF5F33F6F0>, <carla.libcarla.Waypoint object at 0x000002BF5F33F750>), (<carla.libcarla.Waypoint object at 0x000002BF5F33F7B0>, <carla.libcarla.Waypoint object at 0x000002BF5F33F810>), (<carla.libcarla.Waypoint object at 0x000002BF5F33F870>, <carla.libcarla.Waypoint object at 0x000002BF5F33F8D0>), (<carla.libcarla.Waypoint object at 0x000002BF5F33F930>, <carla.libcarla.Waypoint object at 0x000002BF5F33F990>), (<carla.libcarla.Waypoint object at 0x000002BF5F33F9F0>, <carla.libcarla.Waypoint object at 0x000002BF5F33FA50>), (<carla.libcarla.Waypoint object at 0x000002BF5F33FAB0>, <carla.libcarla.Waypoint object at 0x000002BF5F33FB10>), (<carla.libcarla.Waypoint object at 0x000002BF5F33FB70>, <carla.libcarla.Waypoint object at 0x000002BF5F33FBD0>), (<carla.libcarla.Waypoint object at 0x000002BF5F33FC30>, <carla.libcarla.Waypoint object at 0x000002BF5F33FC90>), (<carla.libcarla.Waypoint object at 0x000002BF5F33FCF0>, <carla.libcarla.Waypoint object at 0x000002BF5F33FD50>), (<carla.libcarla.Waypoint object at 0x000002BF5F33FDB0>, <carla.libcarla.Waypoint object at 0x000002BF5F33FE10>), (<carla.libcarla.Waypoint object at 0x000002BF5F33FE70>, <carla.libcarla.Waypoint object at 0x000002BF5F33FED0>), (<carla.libcarla.Waypoint object at 0x000002BF5F33FF30>, <carla.libcarla.Waypoint object at 0x000002BF5F33FF90>), (<carla.libcarla.Waypoint object at 0x000002BF5F340030>, <carla.libcarla.Waypoint object at 0x000002BF5F340090>), (<carla.libcarla.Waypoint object at 0x000002BF5F3400F0>, <carla.libcarla.Waypoint object at 0x000002BF5F340150>), (<carla.libcarla.Waypoint object at 0x000002BF5F3401B0>, <carla.libcarla.Waypoint object at 0x000002BF5F340210>), (<carla.libcarla.Waypoint object at 0x000002BF5F340270>, <carla.libcarla.Waypoint object at 0x000002BF5F3402D0>), (<carla.libcarla.Waypoint object at 0x000002BF5F340330>, <carla.libcarla.Waypoint object at 0x000002BF5F340390>), (<carla.libcarla.Waypoint object at 0x000002BF5F3403F0>, <carla.libcarla.Waypoint object at 0x000002BF5F340450>), (<carla.libcarla.Waypoint object at 0x000002BF5F3404B0>, <carla.libcarla.Waypoint object at 0x000002BF5F340510>), (<carla.libcarla.Waypoint object at 0x000002BF5F340570>, <carla.libcarla.Waypoint object at 0x000002BF5F3405D0>), (<carla.libcarla.Waypoint object at 0x000002BF5F340630>, <carla.libcarla.Waypoint object at 0x000002BF5F340690>), (<carla.libcarla.Waypoint object at 0x000002BF5F3406F0>, <carla.libcarla.Waypoint object at 0x000002BF5F340750>), (<carla.libcarla.Waypoint object at 0x000002BF5F3407B0>, <carla.libcarla.Waypoint object at 0x000002BF5F340810>), (<carla.libcarla.Waypoint object at 0x000002BF5F340870>, <carla.libcarla.Waypoint object at 0x000002BF5F3408D0>), (<carla.libcarla.Waypoint object at 0x000002BF5F340930>, <carla.libcarla.Waypoint object at 0x000002BF5F340990>), (<carla.libcarla.Waypoint object at 0x000002BF5F3409F0>, <carla.libcarla.Waypoint object at 0x000002BF5F340A50>), (<carla.libcarla.Waypoint object at 0x000002BF5F340AB0>, <carla.libcarla.Waypoint object at 0x000002BF5F340B10>), (<carla.libcarla.Waypoint object at 0x000002BF5F340B70>, <carla.libcarla.Waypoint object at 0x000002BF5F340BD0>), (<carla.libcarla.Waypoint object at 0x000002BF5F340C30>, <carla.libcarla.Waypoint object at 0x000002BF5F340C90>), (<carla.libcarla.Waypoint object at 0x000002BF5F340CF0>, <carla.libcarla.Waypoint object at 0x000002BF5F340D50>), (<carla.libcarla.Waypoint object at 0x000002BF5F340DB0>, <carla.libcarla.Waypoint object at 0x000002BF5F340E10>), (<carla.libcarla.Waypoint object at 0x000002BF5F340E70>, <carla.libcarla.Waypoint object at 0x000002BF5F340ED0>), (<carla.libcarla.Waypoint object at 0x000002BF5F340F30>, <carla.libcarla.Waypoint object at 0x000002BF5F340F90>), (<carla.libcarla.Waypoint object at 0x000002BF5F341030>, <carla.libcarla.Waypoint object at 0x000002BF5F341090>), (<carla.libcarla.Waypoint object at 0x000002BF5F3410F0>, <carla.libcarla.Waypoint object at 0x000002BF5F341150>), (<carla.libcarla.Waypoint object at 0x000002BF5F3411B0>, <carla.libcarla.Waypoint object at 0x000002BF5F341210>), (<carla.libcarla.Waypoint object at 0x000002BF5F341270>, <carla.libcarla.Waypoint object at 0x000002BF5F3412D0>), (<carla.libcarla.Waypoint object at 0x000002BF5F341330>, <carla.libcarla.Waypoint object at 0x000002BF5F341390>), (<carla.libcarla.Waypoint object at 0x000002BF5F3413F0>, <carla.libcarla.Waypoint object at 0x000002BF5F341450>), (<carla.libcarla.Waypoint object at 0x000002BF5F3414B0>, <carla.libcarla.Waypoint object at 0x000002BF5F341510>), (<carla.libcarla.Waypoint object at 0x000002BF5F341570>, <carla.libcarla.Waypoint object at 0x000002BF5F3415D0>), (<carla.libcarla.Waypoint object at 0x000002BF5F341630>, <carla.libcarla.Waypoint object at 0x000002BF5F341690>), (<carla.libcarla.Waypoint object at 0x000002BF5F3416F0>, <carla.libcarla.Waypoint object at 0x000002BF5F341750>), (<carla.libcarla.Waypoint object at 0x000002BF5F3417B0>, <carla.libcarla.Waypoint object at 0x000002BF5F341810>), (<carla.libcarla.Waypoint object at 0x000002BF5F341870>, <carla.libcarla.Waypoint object at 0x000002BF5F3418D0>), (<carla.libcarla.Waypoint object at 0x000002BF5F341930>, <carla.libcarla.Waypoint object at 0x000002BF5F341990>), (<carla.libcarla.Waypoint object at 0x000002BF5F3419F0>, <carla.libcarla.Waypoint object at 0x000002BF5F341A50>), (<carla.libcarla.Waypoint object at 0x000002BF5F341AB0>, <carla.libcarla.Waypoint object at 0x000002BF5F341B10>), (<carla.libcarla.Waypoint object at 0x000002BF5F341B70>, <carla.libcarla.Waypoint object at 0x000002BF5F341BD0>), (<carla.libcarla.Waypoint object at 0x000002BF5F341C30>, <carla.libcarla.Waypoint object at 0x000002BF5F341C90>), (<carla.libcarla.Waypoint object at 0x000002BF5F341CF0>, <carla.libcarla.Waypoint object at 0x000002BF5F341D50>), (<carla.libcarla.Waypoint object at 0x000002BF5F341DB0>, <carla.libcarla.Waypoint object at 0x000002BF5F341E10>), (<carla.libcarla.Waypoint object at 0x000002BF5F341E70>, <carla.libcarla.Waypoint object at 0x000002BF5F341ED0>), (<carla.libcarla.Waypoint object at 0x000002BF5F341F30>, <carla.libcarla.Waypoint object at 0x000002BF5F341F90>), (<carla.libcarla.Waypoint object at 0x000002BF5F343030>, <carla.libcarla.Waypoint object at 0x000002BF5F343090>), (<carla.libcarla.Waypoint object at 0x000002BF5F3430F0>, <carla.libcarla.Waypoint object at 0x000002BF5F343150>), (<carla.libcarla.Waypoint object at 0x000002BF5F3431B0>, <carla.libcarla.Waypoint object at 0x000002BF5F343210>), (<carla.libcarla.Waypoint object at 0x000002BF5F343270>, <carla.libcarla.Waypoint object at 0x000002BF5F3432D0>), (<carla.libcarla.Waypoint object at 0x000002BF5F343330>, <carla.libcarla.Waypoint object at 0x000002BF5F343390>), (<carla.libcarla.Waypoint object at 0x000002BF5F3433F0>, <carla.libcarla.Waypoint object at 0x000002BF5F343450>), (<carla.libcarla.Waypoint object at 0x000002BF5F3434B0>, <carla.libcarla.Waypoint object at 0x000002BF5F343510>), (<carla.libcarla.Waypoint object at 0x000002BF5F343570>, <carla.libcarla.Waypoint object at 0x000002BF5F3435D0>), (<carla.libcarla.Waypoint object at 0x000002BF5F343630>, <carla.libcarla.Waypoint object at 0x000002BF5F343690>), (<carla.libcarla.Waypoint object at 0x000002BF5F3436F0>, <carla.libcarla.Waypoint object at 0x000002BF5F343750>), (<carla.libcarla.Waypoint object at 0x000002BF5F3437B0>, <carla.libcarla.Waypoint object at 0x000002BF5F343810>), (<carla.libcarla.Waypoint object at 0x000002BF5F343870>, <carla.libcarla.Waypoint object at 0x000002BF5F3438D0>), (<carla.libcarla.Waypoint object at 0x000002BF5F343930>, <carla.libcarla.Waypoint object at 0x000002BF5F343990>), (<carla.libcarla.Waypoint object at 0x000002BF5F3439F0>, <carla.libcarla.Waypoint object at 0x000002BF5F343A50>), (<carla.libcarla.Waypoint object at 0x000002BF5F343AB0>, <carla.libcarla.Waypoint object at 0x000002BF5F343B10>), (<carla.libcarla.Waypoint object at 0x000002BF5F343B70>, <carla.libcarla.Waypoint object at 0x000002BF5F343BD0>), (<carla.libcarla.Waypoint object at 0x000002BF5F343C30>, <carla.libcarla.Waypoint object at 0x000002BF5F343C90>), (<carla.libcarla.Waypoint object at 0x000002BF5F343CF0>, <carla.libcarla.Waypoint object at 0x000002BF5F343D50>), (<carla.libcarla.Waypoint object at 0x000002BF5F343DB0>, <carla.libcarla.Waypoint object at 0x000002BF5F343E10>), (<carla.libcarla.Waypoint object at 0x000002BF5F343E70>, <carla.libcarla.Waypoint object at 0x000002BF5F343ED0>), (<carla.libcarla.Waypoint object at 0x000002BF5F343F30>, <carla.libcarla.Waypoint object at 0x000002BF5F343F90>), (<carla.libcarla.Waypoint object at 0x000002BF5F344030>, <carla.libcarla.Waypoint object at 0x000002BF5F344090>), (<carla.libcarla.Waypoint object at 0x000002BF5F3440F0>, <carla.libcarla.Waypoint object at 0x000002BF5F344150>), (<carla.libcarla.Waypoint object at 0x000002BF5F3441B0>, <carla.libcarla.Waypoint object at 0x000002BF5F344210>), (<carla.libcarla.Waypoint object at 0x000002BF5F344270>, <carla.libcarla.Waypoint object at 0x000002BF5F3442D0>), (<carla.libcarla.Waypoint object at 0x000002BF5F344330>, <carla.libcarla.Waypoint object at 0x000002BF5F344390>), (<carla.libcarla.Waypoint object at 0x000002BF5F3443F0>, <carla.libcarla.Waypoint object at 0x000002BF5F344450>), (<carla.libcarla.Waypoint object at 0x000002BF5F3444B0>, <carla.libcarla.Waypoint object at 0x000002BF5F344510>), (<carla.libcarla.Waypoint object at 0x000002BF5F344570>, <carla.libcarla.Waypoint object at 0x000002BF5F3445D0>), (<carla.libcarla.Waypoint object at 0x000002BF5F344630>, <carla.libcarla.Waypoint object at 0x000002BF5F344690>), (<carla.libcarla.Waypoint object at 0x000002BF5F3446F0>, <carla.libcarla.Waypoint object at 0x000002BF5F344750>), (<carla.libcarla.Waypoint object at 0x000002BF5F3447B0>, <carla.libcarla.Waypoint object at 0x000002BF5F344810>), (<carla.libcarla.Waypoint object at 0x000002BF5F344870>, <carla.libcarla.Waypoint object at 0x000002BF5F3448D0>), (<carla.libcarla.Waypoint object at 0x000002BF5F344930>, <carla.libcarla.Waypoint object at 0x000002BF5F344990>), (<carla.libcarla.Waypoint object at 0x000002BF5F3449F0>, <carla.libcarla.Waypoint object at 0x000002BF5F344A50>), (<carla.libcarla.Waypoint object at 0x000002BF5F344AB0>, <carla.libcarla.Waypoint object at 0x000002BF5F344B10>), (<carla.libcarla.Waypoint object at 0x000002BF5F344B70>, <carla.libcarla.Waypoint object at 0x000002BF5F344BD0>), (<carla.libcarla.Waypoint object at 0x000002BF5F344C30>, <carla.libcarla.Waypoint object at 0x000002BF5F344C90>), (<carla.libcarla.Waypoint object at 0x000002BF5F344CF0>, <carla.libcarla.Waypoint object at 0x000002BF5F344D50>), (<carla.libcarla.Waypoint object at 0x000002BF5F344DB0>, <carla.libcarla.Waypoint object at 0x000002BF5F344E10>), (<carla.libcarla.Waypoint object at 0x000002BF5F344E70>, <carla.libcarla.Waypoint object at 0x000002BF5F344ED0>), (<carla.libcarla.Waypoint object at 0x000002BF5F344F30>, <carla.libcarla.Waypoint object at 0x000002BF5F344F90>), (<carla.libcarla.Waypoint object at 0x000002BF5F345030>, <carla.libcarla.Waypoint object at 0x000002BF5F345090>), (<carla.libcarla.Waypoint object at 0x000002BF5F3450F0>, <carla.libcarla.Waypoint object at 0x000002BF5F345150>), (<carla.libcarla.Waypoint object at 0x000002BF5F3451B0>, <carla.libcarla.Waypoint object at 0x000002BF5F345210>), (<carla.libcarla.Waypoint object at 0x000002BF5F345270>, <carla.libcarla.Waypoint object at 0x000002BF5F3452D0>), (<carla.libcarla.Waypoint object at 0x000002BF5F345330>, <carla.libcarla.Waypoint object at 0x000002BF5F345390>), (<carla.libcarla.Waypoint object at 0x000002BF5F3453F0>, <carla.libcarla.Waypoint object at 0x000002BF5F345450>), (<carla.libcarla.Waypoint object at 0x000002BF5F3454B0>, <carla.libcarla.Waypoint object at 0x000002BF5F345510>), (<carla.libcarla.Waypoint object at 0x000002BF5F345570>, <carla.libcarla.Waypoint object at 0x000002BF5F3455D0>), (<carla.libcarla.Waypoint object at 0x000002BF5F345630>, <carla.libcarla.Waypoint object at 0x000002BF5F345690>), (<carla.libcarla.Waypoint object at 0x000002BF5F3456F0>, <carla.libcarla.Waypoint object at 0x000002BF5F345750>), (<carla.libcarla.Waypoint object at 0x000002BF5F3457B0>, <carla.libcarla.Waypoint object at 0x000002BF5F345810>), (<carla.libcarla.Waypoint object at 0x000002BF5F345870>, <carla.libcarla.Waypoint object at 0x000002BF5F3458D0>), (<carla.libcarla.Waypoint object at 0x000002BF5F345930>, <carla.libcarla.Waypoint object at 0x000002BF5F345990>), (<carla.libcarla.Waypoint object at 0x000002BF5F3459F0>, <carla.libcarla.Waypoint object at 0x000002BF5F345A50>), (<carla.libcarla.Waypoint object at 0x000002BF5F345AB0>, <carla.libcarla.Waypoint object at 0x000002BF5F345B10>), (<carla.libcarla.Waypoint object at 0x000002BF5F345B70>, <carla.libcarla.Waypoint object at 0x000002BF5F345BD0>), (<carla.libcarla.Waypoint object at 0x000002BF5F345C30>, <carla.libcarla.Waypoint object at 0x000002BF5F345C90>), (<carla.libcarla.Waypoint object at 0x000002BF5F345CF0>, <carla.libcarla.Waypoint object at 0x000002BF5F345D50>), (<carla.libcarla.Waypoint object at 0x000002BF5F345DB0>, <carla.libcarla.Waypoint object at 0x000002BF5F345E10>), (<carla.libcarla.Waypoint object at 0x000002BF5F345E70>, <carla.libcarla.Waypoint object at 0x000002BF5F345ED0>), (<carla.libcarla.Waypoint object at 0x000002BF5F345F30>, <carla.libcarla.Waypoint object at 0x000002BF5F345F90>), (<carla.libcarla.Waypoint object at 0x000002BF5F347030>, <carla.libcarla.Waypoint object at 0x000002BF5F347090>), (<carla.libcarla.Waypoint object at 0x000002BF5F3470F0>, <carla.libcarla.Waypoint object at 0x000002BF5F347150>), (<carla.libcarla.Waypoint object at 0x000002BF5F3471B0>, <carla.libcarla.Waypoint object at 0x000002BF5F347210>), (<carla.libcarla.Waypoint object at 0x000002BF5F347270>, <carla.libcarla.Waypoint object at 0x000002BF5F3472D0>), (<carla.libcarla.Waypoint object at 0x000002BF5F347330>, <carla.libcarla.Waypoint object at 0x000002BF5F347390>), (<carla.libcarla.Waypoint object at 0x000002BF5F3473F0>, <carla.libcarla.Waypoint object at 0x000002BF5F347450>), (<carla.libcarla.Waypoint object at 0x000002BF5F3474B0>, <carla.libcarla.Waypoint object at 0x000002BF5F347510>), (<carla.libcarla.Waypoint object at 0x000002BF5F347570>, <carla.libcarla.Waypoint object at 0x000002BF5F3475D0>), (<carla.libcarla.Waypoint object at 0x000002BF5F347630>, <carla.libcarla.Waypoint object at 0x000002BF5F347690>), (<carla.libcarla.Waypoint object at 0x000002BF5F3476F0>, <carla.libcarla.Waypoint object at 0x000002BF5F347750>), (<carla.libcarla.Waypoint object at 0x000002BF5F3477B0>, <carla.libcarla.Waypoint object at 0x000002BF5F347810>), (<carla.libcarla.Waypoint object at 0x000002BF5F347870>, <carla.libcarla.Waypoint object at 0x000002BF5F3478D0>), (<carla.libcarla.Waypoint object at 0x000002BF5F347930>, <carla.libcarla.Waypoint object at 0x000002BF5F347990>), (<carla.libcarla.Waypoint object at 0x000002BF5F3479F0>, <carla.libcarla.Waypoint object at 0x000002BF5F347A50>), (<carla.libcarla.Waypoint object at 0x000002BF5F347AB0>, <carla.libcarla.Waypoint object at 0x000002BF5F347B10>), (<carla.libcarla.Waypoint object at 0x000002BF5F347B70>, <carla.libcarla.Waypoint object at 0x000002BF5F347BD0>), (<carla.libcarla.Waypoint object at 0x000002BF5F347C30>, <carla.libcarla.Waypoint object at 0x000002BF5F347C90>), (<carla.libcarla.Waypoint object at 0x000002BF5F347CF0>, <carla.libcarla.Waypoint object at 0x000002BF5F347D50>), (<carla.libcarla.Waypoint object at 0x000002BF5F347DB0>, <carla.libcarla.Waypoint object at 0x000002BF5F347E10>), (<carla.libcarla.Waypoint object at 0x000002BF5F347E70>, <carla.libcarla.Waypoint object at 0x000002BF5F347ED0>), (<carla.libcarla.Waypoint object at 0x000002BF5F347F30>, <carla.libcarla.Waypoint object at 0x000002BF5F347F90>), (<carla.libcarla.Waypoint object at 0x000002BF5F348030>, <carla.libcarla.Waypoint object at 0x000002BF5F348090>), (<carla.libcarla.Waypoint object at 0x000002BF5F3480F0>, <carla.libcarla.Waypoint object at 0x000002BF5F348150>), (<carla.libcarla.Waypoint object at 0x000002BF5F3481B0>, <carla.libcarla.Waypoint object at 0x000002BF5F348210>), (<carla.libcarla.Waypoint object at 0x000002BF5F319630>, <carla.libcarla.Waypoint object at 0x000002BF5F319690>), (<carla.libcarla.Waypoint object at 0x000002BF5F3193F0>, <carla.libcarla.Waypoint object at 0x000002BF5F319570>), (<carla.libcarla.Waypoint object at 0x000002BF5F3195D0>, <carla.libcarla.Waypoint object at 0x000002BF5F319150>), (<carla.libcarla.Waypoint object at 0x000002BF5F319450>, <carla.libcarla.Waypoint object at 0x000002BF5F319330>), (<carla.libcarla.Waypoint object at 0x000002BF5F319270>, <carla.libcarla.Waypoint object at 0x000002BF5F3192D0>), (<carla.libcarla.Waypoint object at 0x000002BF5F3191B0>, <carla.libcarla.Waypoint object at 0x000002BF5F3190F0>), (<carla.libcarla.Waypoint object at 0x000002BF5F319210>, <carla.libcarla.Waypoint object at 0x000002BF77FC8570>), (<carla.libcarla.Waypoint object at 0x000002BF60B26E10>, <carla.libcarla.Waypoint object at 0x000002BF5F2F9D50>), (<carla.libcarla.Waypoint object at 0x000002BF5F2F9E70>, <carla.libcarla.Waypoint object at 0x000002BF5F2F9DB0>), (<carla.libcarla.Waypoint object at 0x000002BF5F2F9E10>, <carla.libcarla.Waypoint object at 0x000002BF5F2F9030>), (<carla.libcarla.Waypoint object at 0x000002BF5F2F9150>, <carla.libcarla.Waypoint object at 0x000002BF60A9DD50>), (<carla.libcarla.Waypoint object at 0x000002BF5F27B2D0>, <carla.libcarla.Waypoint object at 0x000002BF7804BB10>), (<carla.libcarla.Waypoint object at 0x000002BF7804BAB0>, <carla.libcarla.Waypoint object at 0x000002BF5F348270>), (<carla.libcarla.Waypoint object at 0x000002BF5F3482D0>, <carla.libcarla.Waypoint object at 0x000002BF5F348330>), (<carla.libcarla.Waypoint object at 0x000002BF5F348390>, <carla.libcarla.Waypoint object at 0x000002BF5F3483F0>), (<carla.libcarla.Waypoint object at 0x000002BF5F348450>, <carla.libcarla.Waypoint object at 0x000002BF5F3484B0>), (<carla.libcarla.Waypoint object at 0x000002BF5F348510>, <carla.libcarla.Waypoint object at 0x000002BF5F348570>), (<carla.libcarla.Waypoint object at 0x000002BF5F3485D0>, <carla.libcarla.Waypoint object at 0x000002BF5F348630>), (<carla.libcarla.Waypoint object at 0x000002BF5F348690>, <carla.libcarla.Waypoint object at 0x000002BF5F3486F0>), (<carla.libcarla.Waypoint object at 0x000002BF5F348750>, <carla.libcarla.Waypoint object at 0x000002BF5F3487B0>), (<carla.libcarla.Waypoint object at 0x000002BF5F348810>, <carla.libcarla.Waypoint object at 0x000002BF5F348870>), (<carla.libcarla.Waypoint object at 0x000002BF5F3488D0>, <carla.libcarla.Waypoint object at 0x000002BF5F348930>), (<carla.libcarla.Waypoint object at 0x000002BF5F348990>, <carla.libcarla.Waypoint object at 0x000002BF5F3489F0>), (<carla.libcarla.Waypoint object at 0x000002BF5F348A50>, <carla.libcarla.Waypoint object at 0x000002BF5F348AB0>), (<carla.libcarla.Waypoint object at 0x000002BF5F348B10>, <carla.libcarla.Waypoint object at 0x000002BF5F348B70>), (<carla.libcarla.Waypoint object at 0x000002BF5F348BD0>, <carla.libcarla.Waypoint object at 0x000002BF5F348C30>), (<carla.libcarla.Waypoint object at 0x000002BF5F348C90>, <carla.libcarla.Waypoint object at 0x000002BF5F348CF0>), (<carla.libcarla.Waypoint object at 0x000002BF5F348D50>, <carla.libcarla.Waypoint object at 0x000002BF5F348DB0>), (<carla.libcarla.Waypoint object at 0x000002BF5F348E10>, <carla.libcarla.Waypoint object at 0x000002BF5F348E70>), (<carla.libcarla.Waypoint object at 0x000002BF5F348ED0>, <carla.libcarla.Waypoint object at 0x000002BF5F348F30>), (<carla.libcarla.Waypoint object at 0x000002BF5F348F90>, <carla.libcarla.Waypoint object at 0x000002BF5F349030>), (<carla.libcarla.Waypoint object at 0x000002BF5F349090>, <carla.libcarla.Waypoint object at 0x000002BF5F3490F0>), (<carla.libcarla.Waypoint object at 0x000002BF5F349150>, <carla.libcarla.Waypoint object at 0x000002BF5F3491B0>), (<carla.libcarla.Waypoint object at 0x000002BF5F349210>, <carla.libcarla.Waypoint object at 0x000002BF5F349270>), (<carla.libcarla.Waypoint object at 0x000002BF5F3492D0>, <carla.libcarla.Waypoint object at 0x000002BF5F349330>), (<carla.libcarla.Waypoint object at 0x000002BF5F349390>, <carla.libcarla.Waypoint object at 0x000002BF5F3493F0>), (<carla.libcarla.Waypoint object at 0x000002BF5F349450>, <carla.libcarla.Waypoint object at 0x000002BF5F3494B0>), (<carla.libcarla.Waypoint object at 0x000002BF5F349510>, <carla.libcarla.Waypoint object at 0x000002BF5F349570>), (<carla.libcarla.Waypoint object at 0x000002BF5F3495D0>, <carla.libcarla.Waypoint object at 0x000002BF5F349630>), (<carla.libcarla.Waypoint object at 0x000002BF5F349690>, <carla.libcarla.Waypoint object at 0x000002BF5F3496F0>), (<carla.libcarla.Waypoint object at 0x000002BF5F349750>, <carla.libcarla.Waypoint object at 0x000002BF5F3497B0>), (<carla.libcarla.Waypoint object at 0x000002BF5F349810>, <carla.libcarla.Waypoint object at 0x000002BF5F349870>), (<carla.libcarla.Waypoint object at 0x000002BF5F3498D0>, <carla.libcarla.Waypoint object at 0x000002BF5F349930>), (<carla.libcarla.Waypoint object at 0x000002BF5F349990>, <carla.libcarla.Waypoint object at 0x000002BF5F3499F0>), (<carla.libcarla.Waypoint object at 0x000002BF5F349A50>, <carla.libcarla.Waypoint object at 0x000002BF5F349AB0>), (<carla.libcarla.Waypoint object at 0x000002BF5F349B10>, <carla.libcarla.Waypoint object at 0x000002BF5F349B70>), (<carla.libcarla.Waypoint object at 0x000002BF5F349BD0>, <carla.libcarla.Waypoint object at 0x000002BF5F349C30>), (<carla.libcarla.Waypoint object at 0x000002BF5F349C90>, <carla.libcarla.Waypoint object at 0x000002BF5F349CF0>), (<carla.libcarla.Waypoint object at 0x000002BF5F349D50>, <carla.libcarla.Waypoint object at 0x000002BF5F349DB0>), (<carla.libcarla.Waypoint object at 0x000002BF5F349E10>, <carla.libcarla.Waypoint object at 0x000002BF5F349E70>), (<carla.libcarla.Waypoint object at 0x000002BF5F349ED0>, <carla.libcarla.Waypoint object at 0x000002BF5F349F30>), (<carla.libcarla.Waypoint object at 0x000002BF5F349F90>, <carla.libcarla.Waypoint object at 0x000002BF5F34A030>), (<carla.libcarla.Waypoint object at 0x000002BF5F34A090>, <carla.libcarla.Waypoint object at 0x000002BF5F34A0F0>), (<carla.libcarla.Waypoint object at 0x000002BF5F34A150>, <carla.libcarla.Waypoint object at 0x000002BF5F34A1B0>), (<carla.libcarla.Waypoint object at 0x000002BF5F34A210>, <carla.libcarla.Waypoint object at 0x000002BF5F34A270>), (<carla.libcarla.Waypoint object at 0x000002BF5F34A2D0>, <carla.libcarla.Waypoint object at 0x000002BF5F34A330>), (<carla.libcarla.Waypoint object at 0x000002BF5F34A390>, <carla.libcarla.Waypoint object at 0x000002BF5F34A3F0>), (<carla.libcarla.Waypoint object at 0x000002BF5F34A450>, <carla.libcarla.Waypoint object at 0x000002BF5F34A4B0>), (<carla.libcarla.Waypoint object at 0x000002BF5F34A510>, <carla.libcarla.Waypoint object at 0x000002BF5F34A570>), (<carla.libcarla.Waypoint object at 0x000002BF5F34A5D0>, <carla.libcarla.Waypoint object at 0x000002BF5F34A630>), (<carla.libcarla.Waypoint object at 0x000002BF5F34A690>, <carla.libcarla.Waypoint object at 0x000002BF5F34A6F0>), (<carla.libcarla.Waypoint object at 0x000002BF5F34A750>, <carla.libcarla.Waypoint object at 0x000002BF5F34A7B0>), (<carla.libcarla.Waypoint object at 0x000002BF5F34A810>, <carla.libcarla.Waypoint object at 0x000002BF5F34A870>), (<carla.libcarla.Waypoint object at 0x000002BF5F34A8D0>, <carla.libcarla.Waypoint object at 0x000002BF5F34A930>), (<carla.libcarla.Waypoint object at 0x000002BF5F34A990>, <carla.libcarla.Waypoint object at 0x000002BF5F34A9F0>), (<carla.libcarla.Waypoint object at 0x000002BF5F34AA50>, <carla.libcarla.Waypoint object at 0x000002BF5F34AAB0>), (<carla.libcarla.Waypoint object at 0x000002BF5F34AB10>, <carla.libcarla.Waypoint object at 0x000002BF5F34AB70>), (<carla.libcarla.Waypoint object at 0x000002BF5F34ABD0>, <carla.libcarla.Waypoint object at 0x000002BF5F34AC30>), (<carla.libcarla.Waypoint object at 0x000002BF5F34AC90>, <carla.libcarla.Waypoint object at 0x000002BF5F34ACF0>), (<carla.libcarla.Waypoint object at 0x000002BF5F34AD50>, <carla.libcarla.Waypoint object at 0x000002BF5F34ADB0>), (<carla.libcarla.Waypoint object at 0x000002BF5F34AE10>, <carla.libcarla.Waypoint object at 0x000002BF5F34AE70>), (<carla.libcarla.Waypoint object at 0x000002BF5F34AED0>, <carla.libcarla.Waypoint object at 0x000002BF5F34AF30>), (<carla.libcarla.Waypoint object at 0x000002BF5F34AF90>, <carla.libcarla.Waypoint object at 0x000002BF5F34B030>), (<carla.libcarla.Waypoint object at 0x000002BF5F34B090>, <carla.libcarla.Waypoint object at 0x000002BF5F34B0F0>), (<carla.libcarla.Waypoint object at 0x000002BF5F34B150>, <carla.libcarla.Waypoint object at 0x000002BF5F34B1B0>), (<carla.libcarla.Waypoint object at 0x000002BF5F34B210>, <carla.libcarla.Waypoint object at 0x000002BF5F34B270>), (<carla.libcarla.Waypoint object at 0x000002BF5F34B2D0>, <carla.libcarla.Waypoint object at 0x000002BF5F34B330>), (<carla.libcarla.Waypoint object at 0x000002BF5F34B390>, <carla.libcarla.Waypoint object at 0x000002BF5F34B3F0>), (<carla.libcarla.Waypoint object at 0x000002BF5F34B450>, <carla.libcarla.Waypoint object at 0x000002BF5F34B4B0>), (<carla.libcarla.Waypoint object at 0x000002BF5F34B510>, <carla.libcarla.Waypoint object at 0x000002BF5F34B570>), (<carla.libcarla.Waypoint object at 0x000002BF5F34B5D0>, <carla.libcarla.Waypoint object at 0x000002BF5F34B630>), (<carla.libcarla.Waypoint object at 0x000002BF5F34B690>, <carla.libcarla.Waypoint object at 0x000002BF5F34B6F0>), (<carla.libcarla.Waypoint object at 0x000002BF5F34B750>, <carla.libcarla.Waypoint object at 0x000002BF5F34B7B0>), (<carla.libcarla.Waypoint object at 0x000002BF5F34B810>, <carla.libcarla.Waypoint object at 0x000002BF5F34B870>), (<carla.libcarla.Waypoint object at 0x000002BF5F34B8D0>, <carla.libcarla.Waypoint object at 0x000002BF5F34B930>), (<carla.libcarla.Waypoint object at 0x000002BF5F34B990>, <carla.libcarla.Waypoint object at 0x000002BF5F34B9F0>), (<carla.libcarla.Waypoint object at 0x000002BF5F34BA50>, <carla.libcarla.Waypoint object at 0x000002BF5F34BAB0>), (<carla.libcarla.Waypoint object at 0x000002BF5F34BB10>, <carla.libcarla.Waypoint object at 0x000002BF5F34BB70>), (<carla.libcarla.Waypoint object at 0x000002BF5F34BBD0>, <carla.libcarla.Waypoint object at 0x000002BF5F34BC30>), (<carla.libcarla.Waypoint object at 0x000002BF5F34BC90>, <carla.libcarla.Waypoint object at 0x000002BF5F34BCF0>), (<carla.libcarla.Waypoint object at 0x000002BF5F34BD50>, <carla.libcarla.Waypoint object at 0x000002BF5F34BDB0>), (<carla.libcarla.Waypoint object at 0x000002BF5F34BE10>, <carla.libcarla.Waypoint object at 0x000002BF5F34BE70>), (<carla.libcarla.Waypoint object at 0x000002BF5F34BED0>, <carla.libcarla.Waypoint object at 0x000002BF5F34BF30>), (<carla.libcarla.Waypoint object at 0x000002BF5F34BF90>, <carla.libcarla.Waypoint object at 0x000002BF5F34C030>), (<carla.libcarla.Waypoint object at 0x000002BF5F34C090>, <carla.libcarla.Waypoint object at 0x000002BF5F34C0F0>), (<carla.libcarla.Waypoint object at 0x000002BF5F34C150>, <carla.libcarla.Waypoint object at 0x000002BF5F34C1B0>), (<carla.libcarla.Waypoint object at 0x000002BF5F34C210>, <carla.libcarla.Waypoint object at 0x000002BF5F34C270>), (<carla.libcarla.Waypoint object at 0x000002BF5F34C2D0>, <carla.libcarla.Waypoint object at 0x000002BF5F34C330>), (<carla.libcarla.Waypoint object at 0x000002BF5F34C390>, <carla.libcarla.Waypoint object at 0x000002BF5F34C3F0>), (<carla.libcarla.Waypoint object at 0x000002BF5F34C450>, <carla.libcarla.Waypoint object at 0x000002BF5F34C4B0>), (<carla.libcarla.Waypoint object at 0x000002BF5F34C510>, <carla.libcarla.Waypoint object at 0x000002BF5F34C570>), (<carla.libcarla.Waypoint object at 0x000002BF5F34C5D0>, <carla.libcarla.Waypoint object at 0x000002BF5F34C630>), (<carla.libcarla.Waypoint object at 0x000002BF5F34C690>, <carla.libcarla.Waypoint object at 0x000002BF5F34C6F0>), (<carla.libcarla.Waypoint object at 0x000002BF5F34C750>, <carla.libcarla.Waypoint object at 0x000002BF5F34C7B0>), (<carla.libcarla.Waypoint object at 0x000002BF5F34C810>, <carla.libcarla.Waypoint object at 0x000002BF5F34C870>)]\n"
     ]
    }
   ],
   "source": [
    "#view of map town4\n",
    "town_map=world.get_map()\n",
    "#getting topology\n",
    "roads=town_map.get_topology()\n",
    "print(roads)"
   ]
  },
  {
   "cell_type": "code",
   "execution_count": 9,
   "id": "e69ba36f",
   "metadata": {},
   "outputs": [],
   "source": [
    "#import sys for sim to define a route for our car\n",
    "import sys\n",
    "sys.path.append('E:/CAR/WindowsNoEditor/PythonAPI/carla')\n",
    "from agents.navigation.global_route_planner import GlobalRoutePlanner"
   ]
  },
  {
   "cell_type": "code",
   "execution_count": 20,
   "id": "04edb9ed",
   "metadata": {},
   "outputs": [],
   "source": [
    "#fixing two routes for our car to go\n",
    "sampling_resolution=2\n",
    "grp=GlobalRoutePlanner(town_map,sampling_resolution)\n",
    "point_a=carla.Location(x=375.608521, y=-68.685387, z=0.281942)\n",
    "point_b=carla.Location(x=311.608490, y=-238.711853, z=0.281942)\n",
    "\n",
    "route=grp.trace_route(point_a,point_b)\n",
    "\n",
    "for waypoint in route:\n",
    "    world.debug.draw_string(waypoint[0].transform.location,'*',draw_shadow=False,\n",
    "                           color=carla.Color(r=0,g=255,b=255),life_time=120.0,\n",
    "                           persistent_lines=True)"
   ]
  },
  {
   "cell_type": "code",
   "execution_count": 29,
   "id": "9d2c7452",
   "metadata": {},
   "outputs": [],
   "source": [
    "spect=world.get_spectator()\n",
    "spwan_points=world.get_map().get_spawn_points()\n",
    "st_pt=spwan_points[0]\n",
    "spectator_pos=carla.Transform(st_pt.location+carla.Location(x=20,y=10,z=4),\n",
    "                             carla.Rotation(yaw=st_pt.rotation.yaw -155))\n",
    "spect.set_transform(spectator_pos)"
   ]
  },
  {
   "cell_type": "code",
   "execution_count": 11,
   "id": "b1f5edc2",
   "metadata": {},
   "outputs": [],
   "source": [
    "# To import a basic agent\n",
    "from agents.navigation.basic_agent import BasicAgent\n",
    "\n",
    "# To import a behavior agent\n",
    "from agents.navigation.behavior_agent import BehaviorAgent\n"
   ]
  },
  {
   "cell_type": "code",
   "execution_count": 27,
   "id": "c4f9bad1",
   "metadata": {},
   "outputs": [],
   "source": [
    "\n",
    "# To start a behavior agent with an aggressive profile\n",
    "agent = BehaviorAgent(vehicle, behavior='aggressive')\n",
    "agent.set_destination(point_b)"
   ]
  },
  {
   "cell_type": "code",
   "execution_count": 28,
   "id": "95892f66",
   "metadata": {},
   "outputs": [],
   "source": [
    "vehicle.set_autopilot(True)"
   ]
  },
  {
   "cell_type": "code",
   "execution_count": 31,
   "id": "b146ed05",
   "metadata": {},
   "outputs": [
    {
     "data": {
      "text/plain": [
       "True"
      ]
     },
     "execution_count": 31,
     "metadata": {},
     "output_type": "execute_result"
    }
   ],
   "source": [
    "vehicle.destroy()"
   ]
  },
  {
   "cell_type": "code",
   "execution_count": 44,
   "id": "064b721d",
   "metadata": {},
   "outputs": [],
   "source": [
    "# Trace the route\n",
    "route = grp.trace_route(point_a, point_b)\n",
    "\n",
    "# Get the waypoints from the route\n",
    "waypoints = [waypoint[0].transform.location for waypoint in route]\n",
    "\n",
    "# Set up a BehaviorAgent for the vehicle\n",
    "agent = BehaviorAgent(vehicle, behavior='aggressive')\n",
    "vehicle.set_autopilot(True)\n",
    "# Move the vehicle along the route\n",
    "for destination_transform in waypoints:\n",
    "    agent.set_destination(destination_transform)\n"
   ]
  },
  {
   "cell_type": "code",
   "execution_count": 27,
   "id": "e388b918",
   "metadata": {},
   "outputs": [],
   "source": [
    "\n",
    "# Get the blueprint for the vehicle (e.g., Tesla Model 3)\n",
    "vehicle_bp = world.get_blueprint_library().find('vehicle.tesla.model3')\n",
    "\n",
    "# Spawn the vehicle at the initial location\n",
    "spawn_point = carla.Transform(carla.Location(x=311.608490, y=-238.711853, z=0.281942), carla.Rotation())\n",
    "vehicle = world.spawn_actor(vehicle_bp, spawn_point)\n",
    "\n",
    "# Enable autopilot for the vehicle\n",
    "vehicle.set_autopilot(True)\n",
    "\n",
    "# Define the destination point\n",
    "destination_point = carla.Location(x=375.608521, y=-68.685387, z=0.281942)  # Adjust the coordinates as needed\n",
    "\n",
    "# Move the vehicle to the destination\n",
    "vehicle.set_transform(carla.Transform(destination_point, carla.Rotation()))\n",
    "\n",
    "# Wait for simulation to process\n",
    "time.sleep(2)\n"
   ]
  },
  {
   "cell_type": "code",
   "execution_count": 19,
   "id": "b31786ea",
   "metadata": {},
   "outputs": [
    {
     "name": "stdout",
     "output_type": "stream",
     "text": [
      "Initial Location: Location(x=375.608521, y=-68.685387, z=0.278783)\n",
      "Destination Location: Location(x=311.608490, y=-238.711853, z=0.281942)\n",
      "Current Location: Location(x=311.374695, y=-209.863144, z=0.006248)\n"
     ]
    }
   ],
   "source": [
    "\n",
    "# Get the blueprint for the vehicled\n",
    "vehicle_bp = world.get_blueprint_library().find('vehicle.tesla.model3')\n",
    "\n",
    "# Spawn the vehicle at the initial location\n",
    "spawn_point = carla.Transform(carla.Location(x=375.608521, y=-68.685387, z=0.281942), carla.Rotation())\n",
    "vehicle = world.spawn_actor(vehicle_bp, spawn_point)\n",
    "\n",
    "# Enable autopilot for the vehicle\n",
    "vehicle.set_autopilot(True)\n",
    "\n",
    "# Define the destination point\n",
    "destination_point = carla.Location(x=311.608490, y=-238.711853, z=0.281942)  # Adjust the coordinates as needed\n",
    "\n",
    "# Print initial and destination points for debugging\n",
    "print(f\"Initial Location: {vehicle.get_location()}\")\n",
    "print(f\"Destination Location: {destination_point}\")\n",
    "\n",
    "# Move the vehicle to the destination\n",
    "vehicle.set_transform(carla.Transform(destination_point, carla.Rotation()))\n",
    "\n",
    "# Wait for simulation to process (increase the delay if needed)\n",
    "time.sleep(5)\n",
    "\n",
    "# Print the current location for debugging\n",
    "print(f\"Current Location: {vehicle.get_location()}\")\n",
    "\n"
   ]
  },
  {
   "cell_type": "code",
   "execution_count": 48,
   "id": "8e3f4336",
   "metadata": {},
   "outputs": [
    {
     "ename": "RuntimeError",
     "evalue": "trying to operate on a destroyed actor; an actor's function was called, but the actor is already destroyed.",
     "output_type": "error",
     "traceback": [
      "\u001b[1;31m---------------------------------------------------------------------------\u001b[0m",
      "\u001b[1;31mRuntimeError\u001b[0m                              Traceback (most recent call last)",
      "\u001b[1;32m~\\AppData\\Local\\Temp\\ipykernel_6312\\2591220257.py\u001b[0m in \u001b[0;36m<module>\u001b[1;34m\u001b[0m\n\u001b[1;32m----> 1\u001b[1;33m \u001b[0mprint\u001b[0m\u001b[1;33m(\u001b[0m\u001b[1;34mf\"Current Location: {vehicle.get_location()}\"\u001b[0m\u001b[1;33m)\u001b[0m\u001b[1;33m\u001b[0m\u001b[1;33m\u001b[0m\u001b[0m\n\u001b[0m",
      "\u001b[1;31mRuntimeError\u001b[0m: trying to operate on a destroyed actor; an actor's function was called, but the actor is already destroyed."
     ]
    }
   ],
   "source": [
    "print(f\"Current Location: {vehicle.get_location()}\")"
   ]
  },
  {
   "cell_type": "code",
   "execution_count": null,
   "id": "daa6dd4c",
   "metadata": {},
   "outputs": [],
   "source": []
  },
  {
   "cell_type": "code",
   "execution_count": null,
   "id": "a0cd4e8e",
   "metadata": {},
   "outputs": [],
   "source": []
  }
 ],
 "metadata": {
  "kernelspec": {
   "display_name": "Python 3 (ipykernel)",
   "language": "python",
   "name": "python3"
  },
  "language_info": {
   "codemirror_mode": {
    "name": "ipython",
    "version": 3
   },
   "file_extension": ".py",
   "mimetype": "text/x-python",
   "name": "python",
   "nbconvert_exporter": "python",
   "pygments_lexer": "ipython3",
   "version": "3.7.16"
  }
 },
 "nbformat": 4,
 "nbformat_minor": 5
}
